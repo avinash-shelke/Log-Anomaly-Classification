{
  "cells": [
    {
      "cell_type": "markdown",
      "metadata": {
        "id": "boy2SateYbFB"
      },
      "source": [
        "**MODEL is trained on the DATASET collected as on 20th FEB 2024 on 33 services involved in Email**\n",
        "\n",
        "\n",
        "File: services33_shuffled_dataset.pkl"
      ]
    },
    {
      "cell_type": "markdown",
      "metadata": {
        "id": "SnMOGQ5jkzCN"
      },
      "source": [
        "**LOADING FILE FOR THE INFERENCE**"
      ]
    },
    {
      "cell_type": "code",
      "execution_count": null,
      "metadata": {
        "id": "GwVn0dwE6rYh"
      },
      "outputs": [],
      "source": [
        "import pandas as pd\n",
        "from tqdm import tqdm\n",
        "import re\n",
        "import numpy as np\n",
        "import string\n",
        "import tensorflow as tf\n",
        "from tensorflow import keras\n",
        "from tensorflow.keras import layers\n",
        "from tensorflow.keras.utils import Sequence\n",
        "from tensorflow.keras.callbacks import ModelCheckpoint, EarlyStopping\n",
        "from tensorflow.keras.losses import SparseCategoricalCrossentropy"
      ]
    },
    {
      "cell_type": "code",
      "execution_count": null,
      "metadata": {
        "id": "Vy2yQDzzvRuu"
      },
      "outputs": [],
      "source": [
        "df = pd.read_csv(\"testfile1.csv\")"
      ]
    },
    {
      "cell_type": "code",
      "execution_count": null,
      "metadata": {
        "id": "A8pzrjnYj5C_"
      },
      "outputs": [],
      "source": [
        "nlogs = df.shape[0]"
      ]
    },
    {
      "cell_type": "code",
      "execution_count": null,
      "metadata": {
        "id": "DStkJBs7Nlwv"
      },
      "outputs": [],
      "source": [
        "# Adding labels to the data\n",
        "label=[]\n",
        "for i in range(nlogs):\n",
        "    if(df['Status'][i]=='info' or df['Status'][i]=='warn' or df['Status'][i]=='ok'):\n",
        "        label.append(0)\n",
        "    elif(df['Status'][i]=='error' or df['Status'][i]=='emergency'):\n",
        "        label.append(1)\n",
        "\n",
        "df['Label'] =  label"
      ]
    },
    {
      "cell_type": "code",
      "execution_count": null,
      "metadata": {
        "id": "XnCp6ImiLYvJ"
      },
      "outputs": [],
      "source": [
        "def remove_strings(big_string, strings_to_remove):\n",
        "    for string in strings_to_remove:\n",
        "        big_string = big_string.replace(string, '')\n",
        "    return big_string"
      ]
    },
    {
      "cell_type": "code",
      "execution_count": null,
      "metadata": {
        "id": "iKf_3juqKWq_"
      },
      "outputs": [],
      "source": [
        "def clean(s):\n",
        "    s = re.sub('\\]|\\[|\\)|\\(|\\=|\\,|\\;', ' ', s)\n",
        "    s = \" \".join([word.lower() if word.isupper() else word for word in s.strip().split()])\n",
        "    s = re.sub('([A-Z][a-z]+)', r' \\1', re.sub('([A-Z]+)', r' \\1', s))\n",
        "    s = \" \".join([word for word in s.split() if not bool(re.search(r'\\d', word))])\n",
        "    trantab = str.maketrans(dict.fromkeys(list(string.punctuation)))\n",
        "    content = s.translate(trantab)\n",
        "    s = \" \".join([word.lower().strip() for word in content.strip().split()])\n",
        "    strings_to_remove = ['wildcard', 'yyyy', 'mmdd', 'hhmmss', 'sss']  # These words create a sense for the incorrect predictions [wildcard, yyyy, mmdd, hhmmss, sss]\n",
        "    result = remove_strings(s , strings_to_remove)\n",
        "\n",
        "    return result"
      ]
    },
    {
      "cell_type": "markdown",
      "metadata": {
        "id": "RTt_at2RWLki"
      },
      "source": [
        "**ENCODING THE MESSAGES**"
      ]
    },
    {
      "cell_type": "code",
      "execution_count": null,
      "metadata": {
        "id": "KH7SM3JDLHee"
      },
      "outputs": [],
      "source": [
        "from transformers import GPT2Tokenizer, TFGPT2Model\n",
        "from transformers import BertTokenizer, TFBertModel\n",
        "from transformers import RobertaTokenizer, TFRobertaModel"
      ]
    },
    {
      "cell_type": "code",
      "execution_count": null,
      "metadata": {
        "colab": {
          "base_uri": "https://localhost:8080/",
          "height": 388,
          "referenced_widgets": [
            "552ed8d66e2242baaba3718fe390987c",
            "edc07e905f894417bf2d1bbcd72c60cb",
            "bbc30d01f7ac40078a2ae2b6754a8635",
            "05bb86cde6604fd8989039a505522dfd",
            "7c265dfc48ab4c2c92c62ab19cebfe68",
            "19370f4f5d0643828b7d9c399ed88ac9",
            "c02929a97c0849f180fa15d8e6b2d2fd",
            "3425d1ea94f84fd1a5f2b062f45511e1",
            "dc472f4dd4784a05be3d63eb87d5b347",
            "b804e3545dcc4ff88e1e9ec3e6dd7deb",
            "6313ce95305f498697914e8c5d85de31",
            "d5b00d52cb6d4aac9c0646b3c75031ea",
            "857d8cecffa64e2ab6b80eb0f7c90c0a",
            "ff17ee1646bf44ff85cad90b16824c57",
            "63444cdbd23e4537b5ed94df026c60b2",
            "e633515e1510418badb5e1e4cda3c0bd",
            "e52ffe3d2cd64298b07aef38239b96ed",
            "a57b58681481402f9803faab3e7abf92",
            "19314ee1f94d46f5afdd7863b6026b3b",
            "b01dcf68d2884f28b526da49eaa64472",
            "df370c1d481b4b55a6f9175a7f2d4805",
            "32d2de9deb2948f8890765324b3601a6",
            "978783372e904363b3b643f04402a4b9",
            "cbf1fed88ca84df6bb00ed69dae5a7fd",
            "9302a51ec85841c1963037fc7f0111a7",
            "8d265a7ec812415ea7d937b6e2aee23b",
            "42f39dcbeb0a45dc8dc553174d288dd5",
            "7ba49044a4f34246a75012553b8e6fe3",
            "3549f59efde443468569245b4689f499",
            "b9571f16a8d748d2b1664d4ee3ed2494",
            "9d45b61658114af6bf211a203731a645",
            "fc609baa95e0477f95501ac65f10b403",
            "5bcb2bc0746a42b69ae7a255a98b1488",
            "e2a24f51f0c2458db28771f677ba094e",
            "2b041b1dd1314a149df592aa9715af74",
            "dce65987bc034b9892af240dc649c897",
            "52fd783c7286407087ad61c63e414160",
            "2e2fa1473f5a490da4629c292419a0e7",
            "e31166e416ba4e17b4993bb9c8a6d5f6",
            "0a9807efd07941eba19b7e0d71614d34",
            "3cd5f8dd950240d89aae276a2034b9ac",
            "6b174d617aba44e1837458c24599a5b2",
            "67a796a040494aa0afc8e8e7753d5e9b",
            "649f3804c2034cdfa863b32a95359069",
            "801e851a725f4ee3bc8ab29fe3917067",
            "003f43a3df8e4228a2df764783706844",
            "c8d4f54a94e94515869228abefcfd1b4",
            "1ea851f6933b406c9ee6361d5d00cfa7",
            "bf66333c3dc94a5d996048d7e4e55c81",
            "69b93e2fb80045ef96245bdc5b4b9670",
            "328929c8d23d4f3aa0e2d07677699604",
            "f8b19c9f7e074173bc63dbeaf6c6868c",
            "5bc7570ca1d34866ba6a3cae25766f90",
            "2761cb091d3c4f499a617444b2f5b978",
            "385690bdd3494ee59d3edbad5ec90b4b"
          ]
        },
        "id": "poUefVjJPTcX",
        "outputId": "9367e59e-cbde-4ec0-c2e0-051d3b157784"
      },
      "outputs": [
        {
          "name": "stderr",
          "output_type": "stream",
          "text": [
            "/usr/local/lib/python3.10/dist-packages/huggingface_hub/utils/_token.py:88: UserWarning: \n",
            "The secret `HF_TOKEN` does not exist in your Colab secrets.\n",
            "To authenticate with the Hugging Face Hub, create a token in your settings tab (https://huggingface.co/settings/tokens), set it as secret in your Google Colab and restart your session.\n",
            "You will be able to reuse this secret in all of your notebooks.\n",
            "Please note that authentication is recommended but still optional to access public models or datasets.\n",
            "  warnings.warn(\n"
          ]
        },
        {
          "data": {
            "application/vnd.jupyter.widget-view+json": {
              "model_id": "552ed8d66e2242baaba3718fe390987c",
              "version_major": 2,
              "version_minor": 0
            },
            "text/plain": [
              "tokenizer_config.json:   0%|          | 0.00/48.0 [00:00<?, ?B/s]"
            ]
          },
          "metadata": {},
          "output_type": "display_data"
        },
        {
          "data": {
            "application/vnd.jupyter.widget-view+json": {
              "model_id": "d5b00d52cb6d4aac9c0646b3c75031ea",
              "version_major": 2,
              "version_minor": 0
            },
            "text/plain": [
              "vocab.txt:   0%|          | 0.00/232k [00:00<?, ?B/s]"
            ]
          },
          "metadata": {},
          "output_type": "display_data"
        },
        {
          "data": {
            "application/vnd.jupyter.widget-view+json": {
              "model_id": "978783372e904363b3b643f04402a4b9",
              "version_major": 2,
              "version_minor": 0
            },
            "text/plain": [
              "tokenizer.json:   0%|          | 0.00/466k [00:00<?, ?B/s]"
            ]
          },
          "metadata": {},
          "output_type": "display_data"
        },
        {
          "data": {
            "application/vnd.jupyter.widget-view+json": {
              "model_id": "e2a24f51f0c2458db28771f677ba094e",
              "version_major": 2,
              "version_minor": 0
            },
            "text/plain": [
              "config.json:   0%|          | 0.00/570 [00:00<?, ?B/s]"
            ]
          },
          "metadata": {},
          "output_type": "display_data"
        },
        {
          "data": {
            "application/vnd.jupyter.widget-view+json": {
              "model_id": "801e851a725f4ee3bc8ab29fe3917067",
              "version_major": 2,
              "version_minor": 0
            },
            "text/plain": [
              "model.safetensors:   0%|          | 0.00/440M [00:00<?, ?B/s]"
            ]
          },
          "metadata": {},
          "output_type": "display_data"
        },
        {
          "name": "stderr",
          "output_type": "stream",
          "text": [
            "Some weights of the PyTorch model were not used when initializing the TF 2.0 model TFBertModel: ['cls.predictions.transform.LayerNorm.weight', 'cls.predictions.transform.dense.weight', 'cls.seq_relationship.bias', 'cls.seq_relationship.weight', 'cls.predictions.bias', 'cls.predictions.transform.dense.bias', 'cls.predictions.transform.LayerNorm.bias']\n",
            "- This IS expected if you are initializing TFBertModel from a PyTorch model trained on another task or with another architecture (e.g. initializing a TFBertForSequenceClassification model from a BertForPreTraining model).\n",
            "- This IS NOT expected if you are initializing TFBertModel from a PyTorch model that you expect to be exactly identical (e.g. initializing a TFBertForSequenceClassification model from a BertForSequenceClassification model).\n",
            "All the weights of TFBertModel were initialized from the PyTorch model.\n",
            "If your task is similar to the task the model of the checkpoint was trained on, you can already use TFBertModel for predictions without further training.\n"
          ]
        }
      ],
      "source": [
        "bert_tokenizer = BertTokenizer.from_pretrained('bert-base-uncased')\n",
        "bert_model = TFBertModel.from_pretrained('bert-base-uncased')"
      ]
    },
    {
      "cell_type": "code",
      "execution_count": null,
      "metadata": {
        "id": "iN-5WtdqPaE6"
      },
      "outputs": [],
      "source": [
        "def bert_encoder(s, no_wordpiece=0):\n",
        "    \"\"\" Compute semantic vector with BERT\n",
        "    Parameters\n",
        "    ----------\n",
        "    s: string to encode\n",
        "    no_wordpiece: 1 if you do not use sub-word tokenization, otherwise 0\n",
        "\n",
        "    Returns\n",
        "    -------\n",
        "        np array in shape of (768,)\n",
        "    \"\"\"\n",
        "    if no_wordpiece:\n",
        "        words = s.split(\" \")\n",
        "        words = [word for word in words if word in bert_tokenizer.vocab.keys()]\n",
        "        s = \" \".join(words)\n",
        "    inputs = bert_tokenizer(s, return_tensors='tf', max_length=512)\n",
        "    outputs = bert_model(inputs)\n",
        "    v = tf.reduce_mean(outputs.last_hidden_state, 1)\n",
        "    return v[0]"
      ]
    },
    {
      "cell_type": "code",
      "execution_count": null,
      "metadata": {
        "colab": {
          "base_uri": "https://localhost:8080/"
        },
        "id": "1vIrKgXcSrDf",
        "outputId": "77809ab8-12f6-4600-81a7-536091354809"
      },
      "outputs": [
        {
          "name": "stderr",
          "output_type": "stream",
          "text": [
            "  0%|          | 0/300 [00:00<?, ?it/s]Truncation was not explicitly activated but `max_length` is provided a specific value, please use `truncation=True` to explicitly truncate examples to max length. Defaulting to 'longest_first' truncation strategy. If you encode pairs of sequences (GLUE-style) with the tokenizer you can select this strategy more precisely by providing a specific strategy to `truncation`.\n",
            "100%|██████████| 300/300 [01:13<00:00,  4.10it/s]\n"
          ]
        }
      ],
      "source": [
        "encoded=[]\n",
        "for i in tqdm(range(nlogs)):\n",
        "    cleaned_msg = clean(df[\"Message\"][i])\n",
        "    encoded_msg = bert_encoder(cleaned_msg)\n",
        "    encoded.append(encoded_msg)\n"
      ]
    },
    {
      "cell_type": "code",
      "execution_count": null,
      "metadata": {
        "id": "VsCZHMdqkUTW"
      },
      "outputs": [],
      "source": [
        "df[\"Encoded\"] = encoded"
      ]
    },
    {
      "cell_type": "code",
      "execution_count": null,
      "metadata": {
        "colab": {
          "base_uri": "https://localhost:8080/",
          "height": 293
        },
        "id": "yWNnfPmtka4o",
        "outputId": "0cdd5400-d746-4973-b55c-f58898855fe0"
      },
      "outputs": [
        {
          "data": {
            "application/vnd.google.colaboratory.intrinsic+json": {
              "summary": "{\n  \"name\": \"df\",\n  \"rows\": 300,\n  \"fields\": [\n    {\n      \"column\": \"Count\",\n      \"properties\": {\n        \"dtype\": \"category\",\n        \"num_unique_values\": 21,\n        \"samples\": [\n          \"\\u2248320K\",\n          \"\\u224830K\",\n          \"\\u224850K\"\n        ],\n        \"semantic_type\": \"\",\n        \"description\": \"\"\n      }\n    },\n    {\n      \"column\": \"Status\",\n      \"properties\": {\n        \"dtype\": \"category\",\n        \"num_unique_values\": 5,\n        \"samples\": [\n          \"warn\",\n          \"emergency\",\n          \"error\"\n        ],\n        \"semantic_type\": \"\",\n        \"description\": \"\"\n      }\n    },\n    {\n      \"column\": \"Service\",\n      \"properties\": {\n        \"dtype\": \"category\",\n        \"num_unique_values\": 52,\n        \"samples\": [\n          \"analytics-ingestion\",\n          \"analytics-admin-service\",\n          \"kube-proxy\"\n        ],\n        \"semantic_type\": \"\",\n        \"description\": \"\"\n      }\n    },\n    {\n      \"column\": \"Message\",\n      \"properties\": {\n        \"dtype\": \"string\",\n        \"num_unique_values\": 298,\n        \"samples\": [\n          \"methodName:createLogoutEvent - sending UpsertAgentAvailabilityMessage: AgentChannelState(id=[wildcard]*[/wildcard], tenantId=YOVRUD, channelToStateMap={chat=LOGGED_OUT, email=LOGGED_OUT}, channelToAuxStateMap={chat=AUX_STATE_READY, email=AUX_STATE_READY})\",\n          \"[wildcard]yyyy-MM-dd HH:mm:ss.SSS[/wildcard] [INFO ] [[wildcard]*[/wildcard]] com.avaya.outbound.contact.api.controller.ContactListController -- _createContactList -- Account Id: GZJLCF - Received request to create new contact list with name: [wildcard]*[/wildcard]\",\n          \"[wildcard]yyyy/MM/dd HH:mm:ss[/wildcard] http2: decoded hpack field header field \\\"date\\\" = \\\"Mon, 11 Mar 2024 [wildcard]HH:mm:ss[/wildcard] GMT\\\"\"\n        ],\n        \"semantic_type\": \"\",\n        \"description\": \"\"\n      }\n    },\n    {\n      \"column\": \"Label\",\n      \"properties\": {\n        \"dtype\": \"number\",\n        \"std\": 0,\n        \"min\": 0,\n        \"max\": 1,\n        \"num_unique_values\": 2,\n        \"samples\": [\n          1,\n          0\n        ],\n        \"semantic_type\": \"\",\n        \"description\": \"\"\n      }\n    },\n    {\n      \"column\": \"Encoded\",\n      \"properties\": {\n        \"dtype\": \"object\",\n        \"semantic_type\": \"\",\n        \"description\": \"\"\n      }\n    }\n  ]\n}",
              "type": "dataframe",
              "variable_name": "df"
            },
            "text/html": [
              "\n",
              "  <div id=\"df-6fc2664d-ef99-491a-8ad7-5a35db7d985c\" class=\"colab-df-container\">\n",
              "    <div>\n",
              "<style scoped>\n",
              "    .dataframe tbody tr th:only-of-type {\n",
              "        vertical-align: middle;\n",
              "    }\n",
              "\n",
              "    .dataframe tbody tr th {\n",
              "        vertical-align: top;\n",
              "    }\n",
              "\n",
              "    .dataframe thead th {\n",
              "        text-align: right;\n",
              "    }\n",
              "</style>\n",
              "<table border=\"1\" class=\"dataframe\">\n",
              "  <thead>\n",
              "    <tr style=\"text-align: right;\">\n",
              "      <th></th>\n",
              "      <th>Count</th>\n",
              "      <th>Status</th>\n",
              "      <th>Service</th>\n",
              "      <th>Message</th>\n",
              "      <th>Label</th>\n",
              "      <th>Encoded</th>\n",
              "    </tr>\n",
              "  </thead>\n",
              "  <tbody>\n",
              "    <tr>\n",
              "      <th>0</th>\n",
              "      <td>≈320K</td>\n",
              "      <td>info</td>\n",
              "      <td>ix-virtual-load-tester</td>\n",
              "      <td>[Accepting [wildcard]*[/wildcard] interaction,...</td>\n",
              "      <td>0</td>\n",
              "      <td>(tf.Tensor(-0.27009603, shape=(), dtype=float3...</td>\n",
              "    </tr>\n",
              "    <tr>\n",
              "      <th>1</th>\n",
              "      <td>≈320K</td>\n",
              "      <td>info</td>\n",
              "      <td>ix-virtual-load-tester</td>\n",
              "      <td>[Delete interactionID: [wildcard]*[/wildcard],...</td>\n",
              "      <td>0</td>\n",
              "      <td>(tf.Tensor(0.12268964, shape=(), dtype=float32...</td>\n",
              "    </tr>\n",
              "    <tr>\n",
              "      <th>2</th>\n",
              "      <td>≈250K</td>\n",
              "      <td>info</td>\n",
              "      <td>ix-virtual-load-tester</td>\n",
              "      <td>[New interaction. State: ALERTING. Transfer ty...</td>\n",
              "      <td>0</td>\n",
              "      <td>(tf.Tensor(-0.2297304, shape=(), dtype=float32...</td>\n",
              "    </tr>\n",
              "    <tr>\n",
              "      <th>3</th>\n",
              "      <td>≈250K</td>\n",
              "      <td>info</td>\n",
              "      <td>user-service</td>\n",
              "      <td>AccountId [wildcard]*[/wildcard], waiting for ...</td>\n",
              "      <td>0</td>\n",
              "      <td>(tf.Tensor(0.08132772, shape=(), dtype=float32...</td>\n",
              "    </tr>\n",
              "    <tr>\n",
              "      <th>4</th>\n",
              "      <td>≈230K</td>\n",
              "      <td>info</td>\n",
              "      <td>vrc-availability-service</td>\n",
              "      <td>messageReceived, received [wildcard]*[/wildcar...</td>\n",
              "      <td>0</td>\n",
              "      <td>(tf.Tensor(0.03244999, shape=(), dtype=float32...</td>\n",
              "    </tr>\n",
              "  </tbody>\n",
              "</table>\n",
              "</div>\n",
              "    <div class=\"colab-df-buttons\">\n",
              "\n",
              "  <div class=\"colab-df-container\">\n",
              "    <button class=\"colab-df-convert\" onclick=\"convertToInteractive('df-6fc2664d-ef99-491a-8ad7-5a35db7d985c')\"\n",
              "            title=\"Convert this dataframe to an interactive table.\"\n",
              "            style=\"display:none;\">\n",
              "\n",
              "  <svg xmlns=\"http://www.w3.org/2000/svg\" height=\"24px\" viewBox=\"0 -960 960 960\">\n",
              "    <path d=\"M120-120v-720h720v720H120Zm60-500h600v-160H180v160Zm220 220h160v-160H400v160Zm0 220h160v-160H400v160ZM180-400h160v-160H180v160Zm440 0h160v-160H620v160ZM180-180h160v-160H180v160Zm440 0h160v-160H620v160Z\"/>\n",
              "  </svg>\n",
              "    </button>\n",
              "\n",
              "  <style>\n",
              "    .colab-df-container {\n",
              "      display:flex;\n",
              "      gap: 12px;\n",
              "    }\n",
              "\n",
              "    .colab-df-convert {\n",
              "      background-color: #E8F0FE;\n",
              "      border: none;\n",
              "      border-radius: 50%;\n",
              "      cursor: pointer;\n",
              "      display: none;\n",
              "      fill: #1967D2;\n",
              "      height: 32px;\n",
              "      padding: 0 0 0 0;\n",
              "      width: 32px;\n",
              "    }\n",
              "\n",
              "    .colab-df-convert:hover {\n",
              "      background-color: #E2EBFA;\n",
              "      box-shadow: 0px 1px 2px rgba(60, 64, 67, 0.3), 0px 1px 3px 1px rgba(60, 64, 67, 0.15);\n",
              "      fill: #174EA6;\n",
              "    }\n",
              "\n",
              "    .colab-df-buttons div {\n",
              "      margin-bottom: 4px;\n",
              "    }\n",
              "\n",
              "    [theme=dark] .colab-df-convert {\n",
              "      background-color: #3B4455;\n",
              "      fill: #D2E3FC;\n",
              "    }\n",
              "\n",
              "    [theme=dark] .colab-df-convert:hover {\n",
              "      background-color: #434B5C;\n",
              "      box-shadow: 0px 1px 3px 1px rgba(0, 0, 0, 0.15);\n",
              "      filter: drop-shadow(0px 1px 2px rgba(0, 0, 0, 0.3));\n",
              "      fill: #FFFFFF;\n",
              "    }\n",
              "  </style>\n",
              "\n",
              "    <script>\n",
              "      const buttonEl =\n",
              "        document.querySelector('#df-6fc2664d-ef99-491a-8ad7-5a35db7d985c button.colab-df-convert');\n",
              "      buttonEl.style.display =\n",
              "        google.colab.kernel.accessAllowed ? 'block' : 'none';\n",
              "\n",
              "      async function convertToInteractive(key) {\n",
              "        const element = document.querySelector('#df-6fc2664d-ef99-491a-8ad7-5a35db7d985c');\n",
              "        const dataTable =\n",
              "          await google.colab.kernel.invokeFunction('convertToInteractive',\n",
              "                                                    [key], {});\n",
              "        if (!dataTable) return;\n",
              "\n",
              "        const docLinkHtml = 'Like what you see? Visit the ' +\n",
              "          '<a target=\"_blank\" href=https://colab.research.google.com/notebooks/data_table.ipynb>data table notebook</a>'\n",
              "          + ' to learn more about interactive tables.';\n",
              "        element.innerHTML = '';\n",
              "        dataTable['output_type'] = 'display_data';\n",
              "        await google.colab.output.renderOutput(dataTable, element);\n",
              "        const docLink = document.createElement('div');\n",
              "        docLink.innerHTML = docLinkHtml;\n",
              "        element.appendChild(docLink);\n",
              "      }\n",
              "    </script>\n",
              "  </div>\n",
              "\n",
              "\n",
              "<div id=\"df-63eec10d-1c8d-4b04-9979-43ee8e6e02bd\">\n",
              "  <button class=\"colab-df-quickchart\" onclick=\"quickchart('df-63eec10d-1c8d-4b04-9979-43ee8e6e02bd')\"\n",
              "            title=\"Suggest charts\"\n",
              "            style=\"display:none;\">\n",
              "\n",
              "<svg xmlns=\"http://www.w3.org/2000/svg\" height=\"24px\"viewBox=\"0 0 24 24\"\n",
              "     width=\"24px\">\n",
              "    <g>\n",
              "        <path d=\"M19 3H5c-1.1 0-2 .9-2 2v14c0 1.1.9 2 2 2h14c1.1 0 2-.9 2-2V5c0-1.1-.9-2-2-2zM9 17H7v-7h2v7zm4 0h-2V7h2v10zm4 0h-2v-4h2v4z\"/>\n",
              "    </g>\n",
              "</svg>\n",
              "  </button>\n",
              "\n",
              "<style>\n",
              "  .colab-df-quickchart {\n",
              "      --bg-color: #E8F0FE;\n",
              "      --fill-color: #1967D2;\n",
              "      --hover-bg-color: #E2EBFA;\n",
              "      --hover-fill-color: #174EA6;\n",
              "      --disabled-fill-color: #AAA;\n",
              "      --disabled-bg-color: #DDD;\n",
              "  }\n",
              "\n",
              "  [theme=dark] .colab-df-quickchart {\n",
              "      --bg-color: #3B4455;\n",
              "      --fill-color: #D2E3FC;\n",
              "      --hover-bg-color: #434B5C;\n",
              "      --hover-fill-color: #FFFFFF;\n",
              "      --disabled-bg-color: #3B4455;\n",
              "      --disabled-fill-color: #666;\n",
              "  }\n",
              "\n",
              "  .colab-df-quickchart {\n",
              "    background-color: var(--bg-color);\n",
              "    border: none;\n",
              "    border-radius: 50%;\n",
              "    cursor: pointer;\n",
              "    display: none;\n",
              "    fill: var(--fill-color);\n",
              "    height: 32px;\n",
              "    padding: 0;\n",
              "    width: 32px;\n",
              "  }\n",
              "\n",
              "  .colab-df-quickchart:hover {\n",
              "    background-color: var(--hover-bg-color);\n",
              "    box-shadow: 0 1px 2px rgba(60, 64, 67, 0.3), 0 1px 3px 1px rgba(60, 64, 67, 0.15);\n",
              "    fill: var(--button-hover-fill-color);\n",
              "  }\n",
              "\n",
              "  .colab-df-quickchart-complete:disabled,\n",
              "  .colab-df-quickchart-complete:disabled:hover {\n",
              "    background-color: var(--disabled-bg-color);\n",
              "    fill: var(--disabled-fill-color);\n",
              "    box-shadow: none;\n",
              "  }\n",
              "\n",
              "  .colab-df-spinner {\n",
              "    border: 2px solid var(--fill-color);\n",
              "    border-color: transparent;\n",
              "    border-bottom-color: var(--fill-color);\n",
              "    animation:\n",
              "      spin 1s steps(1) infinite;\n",
              "  }\n",
              "\n",
              "  @keyframes spin {\n",
              "    0% {\n",
              "      border-color: transparent;\n",
              "      border-bottom-color: var(--fill-color);\n",
              "      border-left-color: var(--fill-color);\n",
              "    }\n",
              "    20% {\n",
              "      border-color: transparent;\n",
              "      border-left-color: var(--fill-color);\n",
              "      border-top-color: var(--fill-color);\n",
              "    }\n",
              "    30% {\n",
              "      border-color: transparent;\n",
              "      border-left-color: var(--fill-color);\n",
              "      border-top-color: var(--fill-color);\n",
              "      border-right-color: var(--fill-color);\n",
              "    }\n",
              "    40% {\n",
              "      border-color: transparent;\n",
              "      border-right-color: var(--fill-color);\n",
              "      border-top-color: var(--fill-color);\n",
              "    }\n",
              "    60% {\n",
              "      border-color: transparent;\n",
              "      border-right-color: var(--fill-color);\n",
              "    }\n",
              "    80% {\n",
              "      border-color: transparent;\n",
              "      border-right-color: var(--fill-color);\n",
              "      border-bottom-color: var(--fill-color);\n",
              "    }\n",
              "    90% {\n",
              "      border-color: transparent;\n",
              "      border-bottom-color: var(--fill-color);\n",
              "    }\n",
              "  }\n",
              "</style>\n",
              "\n",
              "  <script>\n",
              "    async function quickchart(key) {\n",
              "      const quickchartButtonEl =\n",
              "        document.querySelector('#' + key + ' button');\n",
              "      quickchartButtonEl.disabled = true;  // To prevent multiple clicks.\n",
              "      quickchartButtonEl.classList.add('colab-df-spinner');\n",
              "      try {\n",
              "        const charts = await google.colab.kernel.invokeFunction(\n",
              "            'suggestCharts', [key], {});\n",
              "      } catch (error) {\n",
              "        console.error('Error during call to suggestCharts:', error);\n",
              "      }\n",
              "      quickchartButtonEl.classList.remove('colab-df-spinner');\n",
              "      quickchartButtonEl.classList.add('colab-df-quickchart-complete');\n",
              "    }\n",
              "    (() => {\n",
              "      let quickchartButtonEl =\n",
              "        document.querySelector('#df-63eec10d-1c8d-4b04-9979-43ee8e6e02bd button');\n",
              "      quickchartButtonEl.style.display =\n",
              "        google.colab.kernel.accessAllowed ? 'block' : 'none';\n",
              "    })();\n",
              "  </script>\n",
              "</div>\n",
              "\n",
              "    </div>\n",
              "  </div>\n"
            ],
            "text/plain": [
              "   Count Status                   Service  \\\n",
              "0  ≈320K   info    ix-virtual-load-tester   \n",
              "1  ≈320K   info    ix-virtual-load-tester   \n",
              "2  ≈250K   info    ix-virtual-load-tester   \n",
              "3  ≈250K   info              user-service   \n",
              "4  ≈230K   info  vrc-availability-service   \n",
              "\n",
              "                                             Message  Label  \\\n",
              "0  [Accepting [wildcard]*[/wildcard] interaction,...      0   \n",
              "1  [Delete interactionID: [wildcard]*[/wildcard],...      0   \n",
              "2  [New interaction. State: ALERTING. Transfer ty...      0   \n",
              "3  AccountId [wildcard]*[/wildcard], waiting for ...      0   \n",
              "4  messageReceived, received [wildcard]*[/wildcar...      0   \n",
              "\n",
              "                                             Encoded  \n",
              "0  (tf.Tensor(-0.27009603, shape=(), dtype=float3...  \n",
              "1  (tf.Tensor(0.12268964, shape=(), dtype=float32...  \n",
              "2  (tf.Tensor(-0.2297304, shape=(), dtype=float32...  \n",
              "3  (tf.Tensor(0.08132772, shape=(), dtype=float32...  \n",
              "4  (tf.Tensor(0.03244999, shape=(), dtype=float32...  "
            ]
          },
          "execution_count": 34,
          "metadata": {},
          "output_type": "execute_result"
        }
      ],
      "source": [
        "df.head()"
      ]
    },
    {
      "cell_type": "code",
      "execution_count": null,
      "metadata": {},
      "outputs": [],
      "source": [
        "embed_dim = 768  # Embedding size for each token\n",
        "num_heads = 12  # Number of attention heads\n",
        "ff_dim = 2048  # Hidden layer size in feed forward network inside transformer\n",
        "max_len = 75\n",
        "num_layers = 1"
      ]
    },
    {
      "cell_type": "code",
      "execution_count": null,
      "metadata": {
        "id": "ynjlnzXHl20g"
      },
      "outputs": [],
      "source": [
        "class BatchGenerator(Sequence):\n",
        "\n",
        "    def __init__(self, X, batch_size):\n",
        "        self.X = X\n",
        "        self.batch_size = batch_size\n",
        "\n",
        "    def __len__(self):\n",
        "        return int(np.ceil(len(self.X) / float(self.batch_size)))\n",
        "\n",
        "    def __getitem__(self, idx):\n",
        "\n",
        "        dummy = np.zeros(shape=(embed_dim,))\n",
        "        x = self.X[idx * self.batch_size:min((idx + 1) * self.batch_size, len(self.X))]\n",
        "        X = np.zeros((len(x), max_len, embed_dim))\n",
        "        item_count = 0\n",
        "\n",
        "        for i in range(idx * self.batch_size, min((idx + 1) * self.batch_size, len(self.X))):\n",
        "            x = self.X[i]\n",
        "            if len(x) > max_len:\n",
        "                x = x[-max_len:]\n",
        "\n",
        "            desired_shape = (75, 768)\n",
        "            x=tf.expand_dims(x,axis=1)\n",
        "            x=tf.tile(x, [1, desired_shape[1]])\n",
        "            x = np.pad(np.array(x), pad_width=((max_len - len(x), 0), (0, 0)), mode='constant',\n",
        "                       constant_values=0)\n",
        "\n",
        "            X[item_count] = np.reshape(x, [max_len, embed_dim])\n",
        "            item_count += 1\n",
        "\n",
        "        return X[:]"
      ]
    },
    {
      "cell_type": "markdown",
      "metadata": {
        "id": "bkb8hZajw2Cu"
      },
      "source": [
        "**CUSTOM OBJECTS (FUNCTIONS) FOR LOADING THE MODEL**"
      ]
    },
    {
      "cell_type": "code",
      "execution_count": null,
      "metadata": {
        "id": "LyO0AlXuxDwV"
      },
      "outputs": [],
      "source": [
        "class TransformerBlock(layers.Layer):\n",
        "    def __init__(self, embed_dim, num_heads, ff_dim,trainable=True,dtype='float32',rate=0.1):\n",
        "        super(TransformerBlock, self).__init__()\n",
        "        self.att = layers.MultiHeadAttention(num_heads=num_heads, key_dim=embed_dim)\n",
        "        self.ffn = keras.Sequential(\n",
        "            [layers.Dense(ff_dim, activation=\"relu\"), layers.Dense(embed_dim),]\n",
        "        )\n",
        "        self.layernorm1 = layers.LayerNormalization(epsilon=1e-6)\n",
        "        self.layernorm2 = layers.LayerNormalization(epsilon=1e-6)\n",
        "        self.dropout1 = layers.Dropout(rate)\n",
        "        self.dropout2 = layers.Dropout(rate)\n",
        "\n",
        "    def call(self, inputs, training=True):\n",
        "        attn_output = self.att(inputs, inputs)\n",
        "        attn_output = self.dropout1(attn_output, training=training)\n",
        "        out1 = self.layernorm1(inputs + attn_output)\n",
        "        ffn_output = self.ffn(out1)\n",
        "        ffn_output = self.dropout2(ffn_output, training=training)\n",
        "        return self.layernorm2(out1 + ffn_output)"
      ]
    },
    {
      "cell_type": "code",
      "execution_count": null,
      "metadata": {
        "id": "5dR-KnMlxDwV"
      },
      "outputs": [],
      "source": [
        "def get_angles(pos, i, d_model):\n",
        "    angle_rates = 1 / np.power(10000, (2 * (i//2)) / np.float32(d_model))\n",
        "    return pos * angle_rates\n",
        "\n",
        "def positional_encoding(position, d_model):\n",
        "    angle_rads = get_angles(np.arange(position)[:, np.newaxis],\n",
        "                            np.arange(d_model)[np.newaxis, :],\n",
        "                            d_model)\n",
        "\n",
        "    # apply sin to even indices in the array; 2i\n",
        "    angle_rads[:, 0::2] = np.sin(angle_rads[:, 0::2])\n",
        "\n",
        "    # apply cos to odd indices in the array; 2i+1\n",
        "    angle_rads[:, 1::2] = np.cos(angle_rads[:, 1::2])\n",
        "\n",
        "    pos_encoding = angle_rads[np.newaxis, ...]\n",
        "\n",
        "    return tf.cast(pos_encoding, dtype=tf.float32)"
      ]
    },
    {
      "cell_type": "code",
      "execution_count": null,
      "metadata": {
        "id": "8WU_l7Lbw1d9"
      },
      "outputs": [],
      "source": [
        "class PositionEmbedding(layers.Layer):\n",
        "    def __init__(self, max_len, vocab_size, embed_dim, trainable=True,dtype='float32'):\n",
        "        super(PositionEmbedding, self).__init__()\n",
        "        self.token_emb = layers.Embedding(input_dim=vocab_size, output_dim=embed_dim)\n",
        "\n",
        "        self.pos_encoding = positional_encoding(max_len,\n",
        "                                                embed_dim)\n",
        "\n",
        "    def call(self, x):\n",
        "        seq_len = tf.shape(x)[1]\n",
        "        x += self.pos_encoding[:, :seq_len, :]\n",
        "        return x"
      ]
    },
    {
      "cell_type": "code",
      "execution_count": null,
      "metadata": {
        "colab": {
          "base_uri": "https://localhost:8080/"
        },
        "id": "ehbzfvnDlh6h",
        "outputId": "825f7b10-34c7-4aab-f555-39313e2cdc1b"
      },
      "outputs": [
        {
          "name": "stderr",
          "output_type": "stream",
          "text": [
            "/usr/local/lib/python3.10/dist-packages/keras/src/layers/layer.py:357: UserWarning: `build()` was called on layer 'position_embedding_1', however the layer does not have a `build()` method implemented and it looks like it has unbuilt state. This will cause the layer to be marked as built, despite not being actually built, which may cause failures down the line. Make sure to implement a proper `build()` method.\n",
            "  warnings.warn(\n",
            "/usr/local/lib/python3.10/dist-packages/keras/src/layers/layer.py:357: UserWarning: `build()` was called on layer 'transformer_block_1', however the layer does not have a `build()` method implemented and it looks like it has unbuilt state. This will cause the layer to be marked as built, despite not being actually built, which may cause failures down the line. Make sure to implement a proper `build()` method.\n",
            "  warnings.warn(\n"
          ]
        }
      ],
      "source": [
        "#Load the model\n",
        "model = keras.models.load_model(\n",
        "    'tenth_model.keras',\n",
        "    custom_objects={\n",
        "        'PositionEmbedding': PositionEmbedding,\n",
        "        'TransformerBlock': TransformerBlock\n",
        "    }\n",
        ")"
      ]
    },
    {
      "cell_type": "code",
      "execution_count": null,
      "metadata": {
        "id": "Mo4WTDzdk4Vy"
      },
      "outputs": [],
      "source": [
        "def test_model(model, x, batch_size):\n",
        "    test_loader = BatchGenerator(x, batch_size=batch_size)\n",
        "    prediction = model.predict(test_loader,\n",
        "                                         steps=len(x) // batch_size,\n",
        "                                         verbose=1)\n",
        "    prediction = np.argmax(prediction, axis=1)\n",
        "    return prediction"
      ]
    },
    {
      "cell_type": "code",
      "execution_count": null,
      "metadata": {
        "colab": {
          "base_uri": "https://localhost:8080/"
        },
        "id": "Wn_QUZM-lHWJ",
        "outputId": "e50f209a-eacb-4977-b7db-c708e710eedd"
      },
      "outputs": [
        {
          "name": "stderr",
          "output_type": "stream",
          "text": [
            "/usr/local/lib/python3.10/dist-packages/keras/src/trainers/data_adapters/py_dataset_adapter.py:120: UserWarning: Your `PyDataset` class should call `super().__init__(**kwargs)` in its constructor. `**kwargs` can include `workers`, `use_multiprocessing`, `max_queue_size`. Do not pass these arguments to `fit()`, as they will be ignored.\n",
            "  self._warn_if_super_not_called()\n"
          ]
        },
        {
          "name": "stdout",
          "output_type": "stream",
          "text": [
            "\u001b[1m10/10\u001b[0m \u001b[32m━━━━━━━━━━━━━━━━━━━━\u001b[0m\u001b[37m\u001b[0m \u001b[1m7s\u001b[0m 66ms/step\n"
          ]
        }
      ],
      "source": [
        "prediction_array = test_model(model, df[\"Encoded\"], 30)"
      ]
    },
    {
      "cell_type": "code",
      "execution_count": null,
      "metadata": {
        "colab": {
          "base_uri": "https://localhost:8080/"
        },
        "id": "itCUR7eLRS_V",
        "outputId": "63368d88-7af6-4f5b-efcb-30cf98c44325"
      },
      "outputs": [
        {
          "name": "stdout",
          "output_type": "stream",
          "text": [
            "0      (tf.Tensor(-0.27009603, shape=(), dtype=float3...\n",
            "1      (tf.Tensor(0.12268964, shape=(), dtype=float32...\n",
            "2      (tf.Tensor(-0.2297304, shape=(), dtype=float32...\n",
            "3      (tf.Tensor(0.08132772, shape=(), dtype=float32...\n",
            "4      (tf.Tensor(0.03244999, shape=(), dtype=float32...\n",
            "                             ...                        \n",
            "295    (tf.Tensor(0.053640146, shape=(), dtype=float3...\n",
            "296    (tf.Tensor(-0.21823448, shape=(), dtype=float3...\n",
            "297    (tf.Tensor(0.04900824, shape=(), dtype=float32...\n",
            "298    (tf.Tensor(-0.1303999, shape=(), dtype=float32...\n",
            "299    (tf.Tensor(-0.04900688, shape=(), dtype=float3...\n",
            "Name: Encoded, Length: 300, dtype: object [0 0 0 0 0 0 0 0 0 0 0 0 0 0 0 0 0 0 0 0 0 0 0 0 0 0 0 0 0 0 0 0 0 0 0 0 0\n",
            " 0 0 0 0 0 0 0 0 0 0 0 0 0 1 0 0 0 0 0 0 0 0 1 0 0 0 0 0 0 0 0 0 0 0 0 0 1\n",
            " 0 0 0 0 0 0 0 0 0 0 0 0 0 0 0 0 0 0 0 0 0 0 0 0 0 0 0 0 0 0 0 0 0 0 0 0 0\n",
            " 0 0 0 0 0 0 0 0 0 0 0 0 0 0 0 0 0 0 0 0 0 0 0 0 0 0 0 0 0 0 0 0 0 0 0 0 0\n",
            " 0 0 0 0 0 0 0 0 0 0 0 1 0 0 0 1 0 0 0 0 0 0 0 0 0 0 0 0 0 0 0 0 0 0 0 0 0\n",
            " 0 0 0 0 0 0 0 0 0 0 0 0 0 0 0 0 0 0 1 0 0 0 0 0 0 0 0 0 0 0 0 0 0 1 0 0 0\n",
            " 0 0 0 0 0 1 0 0 0 0 0 0 0 0 0 0 0 0 0 0 0 0 0 0 0 0 0 0 0 0 0 0 0 0 0 0 0\n",
            " 0 0 0 0 0 0 0 0 0 0 0 0 0 0 0 0 0 0 0 0 0 1 0 0 0 0 0 0 0 0 0 0 0 0 0 0 0\n",
            " 0 0 0 0]\n"
          ]
        }
      ],
      "source": [
        "print(df[\"Encoded\"], prediction_array)"
      ]
    },
    {
      "cell_type": "code",
      "execution_count": null,
      "metadata": {
        "id": "I2R5EqbMSnJj"
      },
      "outputs": [],
      "source": [
        "corr_incorr_pred=[]\n",
        "for i in range(nlogs):\n",
        "    if(prediction_array[i] == label[i]):\n",
        "        corr_incorr_pred.append(1)\n",
        "    else:\n",
        "        corr_incorr_pred.append(0)\n"
      ]
    },
    {
      "cell_type": "code",
      "execution_count": null,
      "metadata": {
        "colab": {
          "base_uri": "https://localhost:8080/",
          "height": 444
        },
        "id": "JJMb8FEmTey_",
        "outputId": "d711026a-11cc-44e5-e4f8-64ab1875dbea"
      },
      "outputs": [
        {
          "data": {
            "image/png": "[encoded data removed]",
            "text/plain": [
              "<Figure size 500x500 with 1 Axes>"
            ]
          },
          "metadata": {},
          "output_type": "display_data"
        }
      ],
      "source": [
        "import matplotlib.pyplot as plt\n",
        "def analyze_array(array):\n",
        "    # Count the occurrences of 0s and 1s in the array\n",
        "    count_zeros = array.count(0)\n",
        "    count_ones = array.count(1)\n",
        "\n",
        "    # Labels for the pie chart\n",
        "    labels = ['Incorrectly Predicted', 'Correctly Predicted']\n",
        "\n",
        "    # Data to plot\n",
        "    sizes = [count_zeros, count_ones]\n",
        "\n",
        "    # Colors\n",
        "    colors = ['red', 'green']\n",
        "\n",
        "    # Plot\n",
        "    plt.figure(figsize=(5,5))\n",
        "    plt.pie(sizes, labels=labels, colors=colors, autopct='%1.1f%%', startangle=140)\n",
        "    plt.axis('equal')  # Equal aspect ratio ensures that pie is drawn as a circle.\n",
        "    plt.title('Distribution of Values in the Predictions')\n",
        "    plt.show()\n",
        "\n",
        "analyze_array(corr_incorr_pred)"
      ]
    },
    {
      "cell_type": "code",
      "execution_count": null,
      "metadata": {
        "id": "RKh__oNoQLTM"
      },
      "outputs": [],
      "source": []
    },
    {
      "cell_type": "markdown",
      "metadata": {
        "id": "witIdMzWQVEG"
      },
      "source": [
        "**CONFUSION MATRIX**"
      ]
    },
    {
      "cell_type": "code",
      "execution_count": null,
      "metadata": {
        "colab": {
          "base_uri": "https://localhost:8080/",
          "height": 254
        },
        "id": "UmB6Mt9HTykI",
        "outputId": "aeed5b4a-582b-4c37-89d7-d0cbc2915c6b"
      },
      "outputs": [
        {
          "data": {
            "image/png": "[encoded data removed]",
            "text/plain": [
              "<Figure size 400x200 with 1 Axes>"
            ]
          },
          "metadata": {},
          "output_type": "display_data"
        }
      ],
      "source": [
        "import seaborn as sns\n",
        "import matplotlib.pyplot as plt\n",
        "from sklearn.metrics import confusion_matrix\n",
        "from sklearn.metrics import ConfusionMatrixDisplay\n",
        "\n",
        "# Generate confusion matrix\n",
        "cm = confusion_matrix(label ,prediction_array)\n",
        "\n",
        "# Plot confusion matrix using Seaborn\n",
        "sns.set(font_scale=0.8)  # Adjust to fit your needs\n",
        "plt.figure(figsize=(4, 2))\n",
        "sns.heatmap(cm, annot=True, fmt='g', cmap='Blues', cbar=False,\n",
        "            xticklabels=['Predicted 0', 'Predicted 1'],\n",
        "            yticklabels=['Actual 0', 'Actual 1'])\n",
        "plt.xlabel('Predicted label')\n",
        "plt.ylabel('True label')\n",
        "plt.title('Confusion Matrix')\n",
        "plt.show()\n"
      ]
    }
  ],
  "metadata": {
    "colab": {
      "provenance": []
    },
    "kernelspec": {
      "display_name": "Python 3",
      "name": "python3"
    },
    "language_info": {
      "name": "python"
    }
  },
  "nbformat": 4,
  "nbformat_minor": 0
}
