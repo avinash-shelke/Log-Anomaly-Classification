{
  "nbformat": 4,
  "nbformat_minor": 0,
  "metadata": {
    "colab": {
      "provenance": []
    },
    "kernelspec": {
      "name": "python3",
      "display_name": "Python 3"
    },
    "language_info": {
      "name": "python"
    }
  },
  "cells": [
    {
      "cell_type": "code",
      "source": [
        "#IMPORTS\n",
        "import pandas as pd\n",
        "import re\n",
        "import string\n",
        "from sklearn.feature_extraction.text import TfidfVectorizer\n",
        "from sklearn.cluster import KMeans\n",
        "from tqdm import tqdm\n",
        "import time\n",
        "import matplotlib.pyplot as plt\n",
        "from sklearn.decomposition import PCA\n",
        "from sklearn.model_selection import train_test_split\n",
        "from sklearn.svm import SVC\n",
        "from sklearn.metrics import accuracy_score, classification_report, confusion_matrix\n",
        "\n",
        "# files to be imported\n",
        "# 1. service_merged.csv\n",
        "# 2. testdata.csv"
      ],
      "metadata": {
        "id": "1EpdHSatXzMh"
      },
      "execution_count": null,
      "outputs": []
    },
    {
      "cell_type": "markdown",
      "source": [
        "# Past 15 days data as on 20th Feb is used to train the dataset."
      ],
      "metadata": {
        "id": "_xRtAnT5NXgB"
      }
    },
    {
      "cell_type": "code",
      "source": [
        "df = pd.read_csv(\"service_merged.csv\")"
      ],
      "metadata": {
        "id": "trEney43X9HH"
      },
      "execution_count": null,
      "outputs": []
    },
    {
      "cell_type": "code",
      "source": [
        "df.head()"
      ],
      "metadata": {
        "colab": {
          "base_uri": "https://localhost:8080/",
          "height": 206
        },
        "id": "oelFvppkZ0KR",
        "outputId": "eae24687-506f-4af5-fd61-f17950c28592"
      },
      "execution_count": null,
      "outputs": [
        {
          "output_type": "execute_result",
          "data": {
            "text/plain": [
              "    Count Status                Service  \\\n",
              "0  ≈4.09M   info  aapps-digital-service   \n",
              "1  ≈4.04M   info  aapps-digital-service   \n",
              "2  ≈1.17M   info  aapps-digital-service   \n",
              "3  ≈1.15M   info  aapps-digital-service   \n",
              "4  ≈1.14M   info  aapps-digital-service   \n",
              "\n",
              "                                             Message  \n",
              "0  Processed event [wildcard]*[/wildcard] next st...  \n",
              "1  Processing new CallbackEvent for state [[wildc...  \n",
              "2  '- Message sent to Digital API: [AutomatedApps...  \n",
              "3  '- Added message [E1:[wildcard]*[/wildcard]] t...  \n",
              "4  Received confirmation with dialogId: [[wildcar...  "
            ],
            "text/html": [
              "\n",
              "  <div id=\"df-3b4eb15f-83b5-4dfb-8433-31c62b171f32\" class=\"colab-df-container\">\n",
              "    <div>\n",
              "<style scoped>\n",
              "    .dataframe tbody tr th:only-of-type {\n",
              "        vertical-align: middle;\n",
              "    }\n",
              "\n",
              "    .dataframe tbody tr th {\n",
              "        vertical-align: top;\n",
              "    }\n",
              "\n",
              "    .dataframe thead th {\n",
              "        text-align: right;\n",
              "    }\n",
              "</style>\n",
              "<table border=\"1\" class=\"dataframe\">\n",
              "  <thead>\n",
              "    <tr style=\"text-align: right;\">\n",
              "      <th></th>\n",
              "      <th>Count</th>\n",
              "      <th>Status</th>\n",
              "      <th>Service</th>\n",
              "      <th>Message</th>\n",
              "    </tr>\n",
              "  </thead>\n",
              "  <tbody>\n",
              "    <tr>\n",
              "      <th>0</th>\n",
              "      <td>≈4.09M</td>\n",
              "      <td>info</td>\n",
              "      <td>aapps-digital-service</td>\n",
              "      <td>Processed event [wildcard]*[/wildcard] next st...</td>\n",
              "    </tr>\n",
              "    <tr>\n",
              "      <th>1</th>\n",
              "      <td>≈4.04M</td>\n",
              "      <td>info</td>\n",
              "      <td>aapps-digital-service</td>\n",
              "      <td>Processing new CallbackEvent for state [[wildc...</td>\n",
              "    </tr>\n",
              "    <tr>\n",
              "      <th>2</th>\n",
              "      <td>≈1.17M</td>\n",
              "      <td>info</td>\n",
              "      <td>aapps-digital-service</td>\n",
              "      <td>'- Message sent to Digital API: [AutomatedApps...</td>\n",
              "    </tr>\n",
              "    <tr>\n",
              "      <th>3</th>\n",
              "      <td>≈1.15M</td>\n",
              "      <td>info</td>\n",
              "      <td>aapps-digital-service</td>\n",
              "      <td>'- Added message [E1:[wildcard]*[/wildcard]] t...</td>\n",
              "    </tr>\n",
              "    <tr>\n",
              "      <th>4</th>\n",
              "      <td>≈1.14M</td>\n",
              "      <td>info</td>\n",
              "      <td>aapps-digital-service</td>\n",
              "      <td>Received confirmation with dialogId: [[wildcar...</td>\n",
              "    </tr>\n",
              "  </tbody>\n",
              "</table>\n",
              "</div>\n",
              "    <div class=\"colab-df-buttons\">\n",
              "\n",
              "  <div class=\"colab-df-container\">\n",
              "    <button class=\"colab-df-convert\" onclick=\"convertToInteractive('df-3b4eb15f-83b5-4dfb-8433-31c62b171f32')\"\n",
              "            title=\"Convert this dataframe to an interactive table.\"\n",
              "            style=\"display:none;\">\n",
              "\n",
              "  <svg xmlns=\"http://www.w3.org/2000/svg\" height=\"24px\" viewBox=\"0 -960 960 960\">\n",
              "    <path d=\"M120-120v-720h720v720H120Zm60-500h600v-160H180v160Zm220 220h160v-160H400v160Zm0 220h160v-160H400v160ZM180-400h160v-160H180v160Zm440 0h160v-160H620v160ZM180-180h160v-160H180v160Zm440 0h160v-160H620v160Z\"/>\n",
              "  </svg>\n",
              "    </button>\n",
              "\n",
              "  <style>\n",
              "    .colab-df-container {\n",
              "      display:flex;\n",
              "      gap: 12px;\n",
              "    }\n",
              "\n",
              "    .colab-df-convert {\n",
              "      background-color: #E8F0FE;\n",
              "      border: none;\n",
              "      border-radius: 50%;\n",
              "      cursor: pointer;\n",
              "      display: none;\n",
              "      fill: #1967D2;\n",
              "      height: 32px;\n",
              "      padding: 0 0 0 0;\n",
              "      width: 32px;\n",
              "    }\n",
              "\n",
              "    .colab-df-convert:hover {\n",
              "      background-color: #E2EBFA;\n",
              "      box-shadow: 0px 1px 2px rgba(60, 64, 67, 0.3), 0px 1px 3px 1px rgba(60, 64, 67, 0.15);\n",
              "      fill: #174EA6;\n",
              "    }\n",
              "\n",
              "    .colab-df-buttons div {\n",
              "      margin-bottom: 4px;\n",
              "    }\n",
              "\n",
              "    [theme=dark] .colab-df-convert {\n",
              "      background-color: #3B4455;\n",
              "      fill: #D2E3FC;\n",
              "    }\n",
              "\n",
              "    [theme=dark] .colab-df-convert:hover {\n",
              "      background-color: #434B5C;\n",
              "      box-shadow: 0px 1px 3px 1px rgba(0, 0, 0, 0.15);\n",
              "      filter: drop-shadow(0px 1px 2px rgba(0, 0, 0, 0.3));\n",
              "      fill: #FFFFFF;\n",
              "    }\n",
              "  </style>\n",
              "\n",
              "    <script>\n",
              "      const buttonEl =\n",
              "        document.querySelector('#df-3b4eb15f-83b5-4dfb-8433-31c62b171f32 button.colab-df-convert');\n",
              "      buttonEl.style.display =\n",
              "        google.colab.kernel.accessAllowed ? 'block' : 'none';\n",
              "\n",
              "      async function convertToInteractive(key) {\n",
              "        const element = document.querySelector('#df-3b4eb15f-83b5-4dfb-8433-31c62b171f32');\n",
              "        const dataTable =\n",
              "          await google.colab.kernel.invokeFunction('convertToInteractive',\n",
              "                                                    [key], {});\n",
              "        if (!dataTable) return;\n",
              "\n",
              "        const docLinkHtml = 'Like what you see? Visit the ' +\n",
              "          '<a target=\"_blank\" href=https://colab.research.google.com/notebooks/data_table.ipynb>data table notebook</a>'\n",
              "          + ' to learn more about interactive tables.';\n",
              "        element.innerHTML = '';\n",
              "        dataTable['output_type'] = 'display_data';\n",
              "        await google.colab.output.renderOutput(dataTable, element);\n",
              "        const docLink = document.createElement('div');\n",
              "        docLink.innerHTML = docLinkHtml;\n",
              "        element.appendChild(docLink);\n",
              "      }\n",
              "    </script>\n",
              "  </div>\n",
              "\n",
              "\n",
              "<div id=\"df-b47fbab1-3fd6-40ce-ae88-67c83424c387\">\n",
              "  <button class=\"colab-df-quickchart\" onclick=\"quickchart('df-b47fbab1-3fd6-40ce-ae88-67c83424c387')\"\n",
              "            title=\"Suggest charts\"\n",
              "            style=\"display:none;\">\n",
              "\n",
              "<svg xmlns=\"http://www.w3.org/2000/svg\" height=\"24px\"viewBox=\"0 0 24 24\"\n",
              "     width=\"24px\">\n",
              "    <g>\n",
              "        <path d=\"M19 3H5c-1.1 0-2 .9-2 2v14c0 1.1.9 2 2 2h14c1.1 0 2-.9 2-2V5c0-1.1-.9-2-2-2zM9 17H7v-7h2v7zm4 0h-2V7h2v10zm4 0h-2v-4h2v4z\"/>\n",
              "    </g>\n",
              "</svg>\n",
              "  </button>\n",
              "\n",
              "<style>\n",
              "  .colab-df-quickchart {\n",
              "      --bg-color: #E8F0FE;\n",
              "      --fill-color: #1967D2;\n",
              "      --hover-bg-color: #E2EBFA;\n",
              "      --hover-fill-color: #174EA6;\n",
              "      --disabled-fill-color: #AAA;\n",
              "      --disabled-bg-color: #DDD;\n",
              "  }\n",
              "\n",
              "  [theme=dark] .colab-df-quickchart {\n",
              "      --bg-color: #3B4455;\n",
              "      --fill-color: #D2E3FC;\n",
              "      --hover-bg-color: #434B5C;\n",
              "      --hover-fill-color: #FFFFFF;\n",
              "      --disabled-bg-color: #3B4455;\n",
              "      --disabled-fill-color: #666;\n",
              "  }\n",
              "\n",
              "  .colab-df-quickchart {\n",
              "    background-color: var(--bg-color);\n",
              "    border: none;\n",
              "    border-radius: 50%;\n",
              "    cursor: pointer;\n",
              "    display: none;\n",
              "    fill: var(--fill-color);\n",
              "    height: 32px;\n",
              "    padding: 0;\n",
              "    width: 32px;\n",
              "  }\n",
              "\n",
              "  .colab-df-quickchart:hover {\n",
              "    background-color: var(--hover-bg-color);\n",
              "    box-shadow: 0 1px 2px rgba(60, 64, 67, 0.3), 0 1px 3px 1px rgba(60, 64, 67, 0.15);\n",
              "    fill: var(--button-hover-fill-color);\n",
              "  }\n",
              "\n",
              "  .colab-df-quickchart-complete:disabled,\n",
              "  .colab-df-quickchart-complete:disabled:hover {\n",
              "    background-color: var(--disabled-bg-color);\n",
              "    fill: var(--disabled-fill-color);\n",
              "    box-shadow: none;\n",
              "  }\n",
              "\n",
              "  .colab-df-spinner {\n",
              "    border: 2px solid var(--fill-color);\n",
              "    border-color: transparent;\n",
              "    border-bottom-color: var(--fill-color);\n",
              "    animation:\n",
              "      spin 1s steps(1) infinite;\n",
              "  }\n",
              "\n",
              "  @keyframes spin {\n",
              "    0% {\n",
              "      border-color: transparent;\n",
              "      border-bottom-color: var(--fill-color);\n",
              "      border-left-color: var(--fill-color);\n",
              "    }\n",
              "    20% {\n",
              "      border-color: transparent;\n",
              "      border-left-color: var(--fill-color);\n",
              "      border-top-color: var(--fill-color);\n",
              "    }\n",
              "    30% {\n",
              "      border-color: transparent;\n",
              "      border-left-color: var(--fill-color);\n",
              "      border-top-color: var(--fill-color);\n",
              "      border-right-color: var(--fill-color);\n",
              "    }\n",
              "    40% {\n",
              "      border-color: transparent;\n",
              "      border-right-color: var(--fill-color);\n",
              "      border-top-color: var(--fill-color);\n",
              "    }\n",
              "    60% {\n",
              "      border-color: transparent;\n",
              "      border-right-color: var(--fill-color);\n",
              "    }\n",
              "    80% {\n",
              "      border-color: transparent;\n",
              "      border-right-color: var(--fill-color);\n",
              "      border-bottom-color: var(--fill-color);\n",
              "    }\n",
              "    90% {\n",
              "      border-color: transparent;\n",
              "      border-bottom-color: var(--fill-color);\n",
              "    }\n",
              "  }\n",
              "</style>\n",
              "\n",
              "  <script>\n",
              "    async function quickchart(key) {\n",
              "      const quickchartButtonEl =\n",
              "        document.querySelector('#' + key + ' button');\n",
              "      quickchartButtonEl.disabled = true;  // To prevent multiple clicks.\n",
              "      quickchartButtonEl.classList.add('colab-df-spinner');\n",
              "      try {\n",
              "        const charts = await google.colab.kernel.invokeFunction(\n",
              "            'suggestCharts', [key], {});\n",
              "      } catch (error) {\n",
              "        console.error('Error during call to suggestCharts:', error);\n",
              "      }\n",
              "      quickchartButtonEl.classList.remove('colab-df-spinner');\n",
              "      quickchartButtonEl.classList.add('colab-df-quickchart-complete');\n",
              "    }\n",
              "    (() => {\n",
              "      let quickchartButtonEl =\n",
              "        document.querySelector('#df-b47fbab1-3fd6-40ce-ae88-67c83424c387 button');\n",
              "      quickchartButtonEl.style.display =\n",
              "        google.colab.kernel.accessAllowed ? 'block' : 'none';\n",
              "    })();\n",
              "  </script>\n",
              "</div>\n",
              "\n",
              "    </div>\n",
              "  </div>\n"
            ],
            "application/vnd.google.colaboratory.intrinsic+json": {
              "type": "dataframe",
              "variable_name": "df",
              "summary": "{\n  \"name\": \"df\",\n  \"rows\": 5783,\n  \"fields\": [\n    {\n      \"column\": \"Count\",\n      \"properties\": {\n        \"dtype\": \"category\",\n        \"num_unique_values\": 459,\n        \"samples\": [\n          \"\\u22481.23M\",\n          \"\\u224870K\",\n          \"\\u2248115K\"\n        ],\n        \"semantic_type\": \"\",\n        \"description\": \"\"\n      }\n    },\n    {\n      \"column\": \"Status\",\n      \"properties\": {\n        \"dtype\": \"category\",\n        \"num_unique_values\": 4,\n        \"samples\": [\n          \"error\",\n          \"debug\",\n          \"info\"\n        ],\n        \"semantic_type\": \"\",\n        \"description\": \"\"\n      }\n    },\n    {\n      \"column\": \"Service\",\n      \"properties\": {\n        \"dtype\": \"category\",\n        \"num_unique_values\": 33,\n        \"samples\": [\n          \"vrc-metrics-service\",\n          \"ix-dsk-media-connector\",\n          \"uc3-connector\"\n        ],\n        \"semantic_type\": \"\",\n        \"description\": \"\"\n      }\n    },\n    {\n      \"column\": \"Message\",\n      \"properties\": {\n        \"dtype\": \"string\",\n        \"num_unique_values\": 5452,\n        \"samples\": [\n          \"Running query against index 'cj-journey-nzulbv-*' { \\\"bool\\\" : { \\\"filter\\\" : [ { \\\"bool\\\" : { \\\"should\\\" : [ { \\\"wildcard\\\" : { \\\"identifiers.emailAddresses\\\" : { \\\"wildcard\\\" : \\\"Doey4@example.com\\\", \\\"case_insensitive\\\" : true, \\\"boost\\\" : 1.0 } } }, { \\\"wildcard\\\" : { \\\"identifiers.emailAddresses\\\" : { \\\"wildcard\\\" : \\\"Doey5@example.com\\\", \\\"case_insensitive\\\" : true, \\\"boost\\\" : 1.0 } } }, { \\\"wildcard\\\" : { \\\"identifiers.emailAddresses\\\" : { \\\"wildcard\\\" : \\\"Doey66@example.com\\\", \\\"case_insensitive\\\" : true, \\\"boost\\\" : 1.0 } } }, { \\\"wildcard\\\" : { \\\"identifiers.emailAddresses\\\" : { \\\"wildcard\\\" : \\\"Doey51@example.com\\\", \\\"case_insensitive\\\" : true, \\\"boost\\\" : 1.0 } } }, { \\\"wildcard\\\" : { \\\"identifiers.emailAddresses\\\" : { \\\"wildcard\\\" : \\\"Doey6@example.com\\\", \\\"case_insensitive\\\" : true, \\\"boost\\\" : 1.0 } } }, { \\\"wildcard\\\" : { \\\"identifiers.emailAddresses\\\" : { \\\"wildcard\\\" : \\\"john@example.com\\\", \\\"case_insensitive\\\" : true, \\\"boost\\\" : 1.0 } } }, { \\\"wildcard\\\" : { \\\"identifiers.emailAddresses\\\" : { \\\"wildcard\\\" : \\\"Avaya111111111111111111111@example.com\\\", \\\"case_insensitive\\\" : true, \\\"boost\\\" : 1.0 } } }, { \\\"wildcard\\\" : { \\\"identifiers.phoneNumbers\\\" : { \\\"wildcard\\\" : \\\"91 20 4101 8003\\\", \\\"boost\\\" : 1.0 } } } ], \\\"adjust_pure_negative\\\" : true, \\\"minimum_should_match\\\" : \\\"1\\\", \\\"boost\\\" : 1.0 } } ], \\\"adjust_pure_negative\\\" : true, \\\"boost\\\" : 1.0 } }\",\n          \"sendEvent(): Consolidated event for key [[wildcard]*[/wildcard]] has been sent to topic 'analytics.cdr.dialogdetail.consolidated', CDR recordCtrl:false Measures:ConsolidatorOutputEvent(table=DialogDetail, accountId=[wildcard]*[/wildcard], recordStatus=OPEN, uniqueEventId=[wildcard]*[/wildcard], payload={engagement_source=NA, engagement_start_time=[wildcard][1707723911222-1707793548886][/wildcard], dialog_start_time=[wildcard][1707723911222-1707793548886][/wildcard], external_participant_id=E1:[wildcard]*[/wildcard], source_address=NA, dialog_id=[wildcard]*[/wildcard], provider_id=[wildcard]*[/wildcard], engagement_id=[wildcard]*[/wildcard], observe_indicator=0, transfer_indicator=0, state=INBOUND_ENGAGEMENT, channel_type=Chat, channel_id=Chat, direction=INCOMING}, eventKey=[wildcard]*[/wildcard], timeCreated=[wildcard][1707723914406-1707793549012][/wildcard], timeLastTouched=[wildcard][1707723914946-1707793549027][/wildcard], timeToDelete=0)\",\n          \"DatabaseController.insertRowIntoDb(OmniAccountBDDAutomation TYEIUB): inserting new rows using sql[INSERT INTO CDR_DIALOGDETAIL_IMPORT (engagement_source,acw_start_timestamp,agent_id,subject,dialled_number,engagement_end_time,conference_indicator,send_from,external_call_indicator,send_to,agent_initiated_disconnect,queued_attributes,source_address,consult_accepted_from_queue_indicator,dialog_id,transfer_indicator,channel_type,acw_indicator,queue_id,offered_attributes,direction,disposition_code_id,consult_initiated_to_user_indicator,engagement_queued_time,business_accountname,barge_indicator,calling_number,engagement_start_time,dialog_start_time,consult_accepted_from_user_indicator,message_type,answered_timestamp,warm_transfer_to_user_indicator,acw_end_timestamp,external_participant_id,engagement_offered_time,dialog_end_time,consult_initiated_to_queue_indicator,barge_start_timestamp,provider_id,observe_indicator,engagement_id,coach_indicator,channel_id,barge_end_timestamp,coach_timestamp,abandoned_indicator) values (?,?,?,?,?,?,?,?,?,?,?,?,?,?,?,?,?,?,?,?,?,?,?,?,?,?,?,?,?,?,?,?,?,?,?,?,?,?,?,?,?,?,?,?,?,?,?) ON CONFLICT DO NOTHING;] with values [{engagement_source=[[wildcard]*[/wildcard], [wildcard]*[/wildcard]], acw_start_timestamp=[[wildcard]*[/wildcard], [wildcard]*[/wildcard]], agent_id=[[wildcard]*[/wildcard], [wildcard]*[/wildcard]], dialled_number=[[wildcard]*[/wildcard], [wildcard]*[/wildcard]], engagement_end_time=[[wildcard]*[/wildcard], [wildcard]*[/wildcard]], conference_indicator=[null, null], external_call_indicator=[[wildcard]*[/wildcard], [wildcard]*[/wildcard]], agent_initiated_disconnect=[[wildcard]*[/wildcard], [wildcard]*[/wildcard]], queued_attributes=[[wildcard]*[/wildcard]], source_address=[[wildcard]*[/wildcard], [wildcard]*[/wildcard]], consult_accepted_from_queue_indicator=[null, null], dialog_id=[[wildcard]*[/wildcard], [wildcard]*[/wildcard]], transfer_indicator=[[wildcard][0-1][/wildcard], [wildcard][0-1][/wildcard]], channel_type=[[wildcard]*[/wildcard], [wildcard]*[/wildcard]], acw_indicator=[null, [wildcard]*[/wildcard]], queue_id=[[wildcard]*[/wildcard], [wildcard]*[/wildcard]], offered_attributes=[[wildcard]*[/wildcard]], direction=[INCOMING, INCOMING], disposition_code_id=[null, null], consult_initiated_to_user_indicator=[null, null], engagement_queued_time=[null, null], barge_indicator=[null, null], engagement_start_time=[[wildcard][1707112850593-1708317980032][/wildcard], [wildcard][1707112850593-1708317980032][/wildcard]], dialog_start_time=[[wildcard][1707112850593-1708317980032][/wildcard], [wildcard][1707112850593-1708317980032][/wildcard]], consult_accepted_from_user_indicator=[null, null], message_type=[[wildcard]*[/wildcard], [wildcard]*[/wildcard]], answered_timestamp=[[wildcard]*[/wildcard], [wildcard]*[/wildcard]], warm_transfer_to_user_indicator=[null, null], acw_end_timestamp=[null, null], engagement_offered_time=[[wildcard]*[/wildcard], [wildcard]*[/wildcard]], dialog_end_time=[null, [wildcard]*[/wildcard]], consult_initiated_to_queue_indicator=[null, null], barge_start_timestamp=[null, null], provider_id=[[wildcard]*[/wildcard], [wildcard]*[/wildcard]], observe_indicator=[[wildcard][0-1][/wildcard], [wildcard][0-1][/wildcard]], engagement_id=[[wildcard]*[/wildcard], [wildcard]*[/wildcard]], coach_indicator=[[wildcard]*[/wildcard], [wildcard]*[/wildcard]], channel_id=[[wildcard]*[/wildcard], [wildcard]*[/wildcard]], barge_end_timestamp=[null, null], coach_timestamp=[[wildcard]*[/wildcard], [wildcard]*[/wildcard]], abandoned_indicator=[null, null]}]\"\n        ],\n        \"semantic_type\": \"\",\n        \"description\": \"\"\n      }\n    }\n  ]\n}"
            }
          },
          "metadata": {},
          "execution_count": 13
        }
      ]
    },
    {
      "cell_type": "code",
      "source": [
        "def remove_strings(big_string, strings_to_remove):\n",
        "    for string in strings_to_remove:\n",
        "        big_string = big_string.replace(string, '')\n",
        "    return big_string"
      ],
      "metadata": {
        "id": "Dx2ZECdlfLCG"
      },
      "execution_count": null,
      "outputs": []
    },
    {
      "cell_type": "code",
      "source": [
        "def clean(s):\n",
        "    s = re.sub('\\]|\\[|\\)|\\(|\\=|\\,|\\;', ' ', s)\n",
        "    s = \" \".join([word.lower() if word.isupper() else word for word in s.strip().split()])\n",
        "    s = re.sub('([A-Z][a-z]+)', r' \\1', re.sub('([A-Z]+)', r' \\1', s))\n",
        "    s = \" \".join([word for word in s.split() if not bool(re.search(r'\\d', word))])\n",
        "    trantab = str.maketrans(dict.fromkeys(list(string.punctuation)))\n",
        "    content = s.translate(trantab)\n",
        "    s = \" \".join([word.lower().strip() for word in content.strip().split()])\n",
        "    strings_to_remove = ['wildcard', 'yyyy', 'mmdd', 'hhmmss', 'sss']  # These words create a sense for the incorrect predictions [wildcard, yyyy, mmdd, hhmmss, sss]\n",
        "    result = remove_strings(s , strings_to_remove)\n",
        "\n",
        "    return result"
      ],
      "metadata": {
        "id": "PKpLepKbZ1yB"
      },
      "execution_count": null,
      "outputs": []
    },
    {
      "cell_type": "code",
      "source": [
        "df.shape"
      ],
      "metadata": {
        "colab": {
          "base_uri": "https://localhost:8080/"
        },
        "id": "w7YguBZ_aGBr",
        "outputId": "b6c7e6ef-9d45-416a-d868-e2b0ff94a6c9"
      },
      "execution_count": null,
      "outputs": [
        {
          "output_type": "execute_result",
          "data": {
            "text/plain": [
              "(5783, 4)"
            ]
          },
          "metadata": {},
          "execution_count": 16
        }
      ]
    },
    {
      "cell_type": "code",
      "source": [
        "pos_data=[]\n",
        "neg_data=[]\n",
        "for i in range(5783):\n",
        "    if(df[\"Status\"][i]=='error'):\n",
        "        neg_data.append(df[\"Message\"][i])\n",
        "    else:\n",
        "        pos_data.append(df[\"Message\"][i])\n",
        "print(len(pos_data))\n",
        "print(len(neg_data))\n"
      ],
      "metadata": {
        "colab": {
          "base_uri": "https://localhost:8080/"
        },
        "id": "heS3wU2yaNy3",
        "outputId": "422f2397-ff00-48e7-c877-2e77d78b27c7"
      },
      "execution_count": null,
      "outputs": [
        {
          "output_type": "stream",
          "name": "stdout",
          "text": [
            "5510\n",
            "273\n"
          ]
        }
      ]
    },
    {
      "cell_type": "code",
      "source": [
        "data=[]\n",
        "data.extend(neg_data)\n",
        "pos_data = pos_data[:273]\n",
        "data.extend(pos_data)\n",
        "len(data)"
      ],
      "metadata": {
        "colab": {
          "base_uri": "https://localhost:8080/"
        },
        "id": "zNuw9KUibV2F",
        "outputId": "1862f15c-e01a-48f5-bcb4-d16964e163c3"
      },
      "execution_count": null,
      "outputs": [
        {
          "output_type": "execute_result",
          "data": {
            "text/plain": [
              "546"
            ]
          },
          "metadata": {},
          "execution_count": 18
        }
      ]
    },
    {
      "cell_type": "code",
      "source": [
        "clean_data=[]\n",
        "for val in data:\n",
        "    val = clean(val)\n",
        "    clean_data.append(val)\n",
        "len(clean_data)"
      ],
      "metadata": {
        "colab": {
          "base_uri": "https://localhost:8080/"
        },
        "id": "B2MVgRW2UlA_",
        "outputId": "27200730-a2d1-4fb3-f2db-9e3649d33be4"
      },
      "execution_count": null,
      "outputs": [
        {
          "output_type": "execute_result",
          "data": {
            "text/plain": [
              "546"
            ]
          },
          "metadata": {},
          "execution_count": 19
        }
      ]
    },
    {
      "cell_type": "code",
      "source": [
        "# TF-IDF will transform the text into meaningful representation of integers or numbers which is used to fit machine learning algorithm for predictions\n",
        "vectorizer = TfidfVectorizer(stop_words='english')\n",
        "X = vectorizer.fit_transform(clean_data)\n",
        "\n",
        "# KMeans clustering provides insight if model differentiate between positive and negative\n",
        "km = KMeans(n_clusters=2, n_init=3, random_state=0)\n",
        "\n",
        "# Fit the model to the data\n",
        "km.fit(X)\n",
        "# Print the cluster labels\n",
        "print(km.labels_)"
      ],
      "metadata": {
        "id": "_vpOGpXXv5wl",
        "colab": {
          "base_uri": "https://localhost:8080/"
        },
        "outputId": "8f069def-83c1-4e12-973f-f2ae0436cf23"
      },
      "execution_count": null,
      "outputs": [
        {
          "output_type": "stream",
          "name": "stdout",
          "text": [
            "[0 0 0 0 0 0 0 0 0 0 0 0 0 0 0 0 0 0 0 0 0 0 0 0 0 0 0 0 0 0 0 0 0 0 0 0 0\n",
            " 0 0 0 0 0 0 0 0 0 0 0 0 0 0 0 0 0 0 0 0 0 0 0 0 0 0 0 0 0 0 0 0 0 0 0 0 0\n",
            " 0 0 0 0 0 0 0 0 0 0 0 0 0 0 0 0 0 0 0 0 0 0 0 0 0 0 0 0 0 0 0 0 0 0 0 0 0\n",
            " 0 0 0 0 0 0 0 0 0 0 0 0 0 0 0 0 0 0 0 0 0 0 0 0 0 0 0 0 0 0 0 0 0 0 0 0 0\n",
            " 0 0 0 0 0 0 0 0 0 0 0 0 0 0 0 0 0 0 0 0 0 0 0 0 0 0 0 0 0 0 0 0 0 0 0 0 0\n",
            " 0 0 0 0 0 0 0 0 0 0 0 0 0 0 0 0 0 0 0 0 0 0 0 0 0 0 0 0 0 0 0 0 0 0 0 0 0\n",
            " 0 0 0 0 0 0 0 0 0 0 0 0 0 0 0 0 0 0 0 0 0 0 0 0 0 0 0 0 0 0 0 0 0 0 0 0 0\n",
            " 0 0 0 0 0 0 0 0 0 0 0 0 0 0 0 0 0 0 0 0 0 0 0 0 0 0 0 0 0 0 0 0 0 0 0 0 0\n",
            " 0 0 0 0 0 0 0 0 0 0 0 0 0 0 0 0 0 0 0 0 0 0 0 0 0 0 0 0 0 0 0 0 0 0 0 0 0\n",
            " 0 0 0 0 0 0 0 0 0 0 0 0 0 0 0 0 0 0 0 0 1 1 1 1 1 1 1 1 1 1 1 1 1 1 1 1 1\n",
            " 1 1 1 1 1 1 1 1 1 1 1 1 1 1 1 1 1 1 1 1 1 1 1 1 1 1 1 1 1 1 1 1 0 1 1 1 1\n",
            " 1 1 1 1 1 1 1 1 1 1 1 1 1 1 1 1 1 1 1 1 1 1 1 1 1 1 1 1 1 1 1 1 1 1 1 1 1\n",
            " 1 1 1 1 1 1 1 1 1 1 1 1 1 1 1 1 1 1 1 1 1 1 1 1 1 1 1 1 1 1 1 1 1 1 1 1 1\n",
            " 1 1 1 1 1 1 1 1 1 1 1 1 1 1 1 1 1 1 1 1 1 1 1 1 1 1 1 1 1 1 1 1 1 1 1 1 1\n",
            " 1 1 1 1 1 1 1 1 1 1 1 1 1 1 1 1 1 1 1 1 1 1 1 1 1 1 1 1]\n"
          ]
        }
      ]
    },
    {
      "cell_type": "code",
      "source": [
        "print(data[0])\n",
        "labels = km.labels_\n",
        "print(labels[0])"
      ],
      "metadata": {
        "colab": {
          "base_uri": "https://localhost:8080/"
        },
        "id": "cWmjxadbT3HG",
        "outputId": "529e3397-b0f9-4c3c-fc8c-a835e7f2400b"
      },
      "execution_count": null,
      "outputs": [
        {
          "output_type": "stream",
          "name": "stdout",
          "text": [
            "(Will not log errors for 5 minutes)\n",
            "0\n"
          ]
        }
      ]
    },
    {
      "cell_type": "markdown",
      "source": [
        "**Visualization of the Clusters**"
      ],
      "metadata": {
        "id": "65SR_sEpUFyF"
      }
    },
    {
      "cell_type": "code",
      "source": [
        "# Reduce the dimensionality of the TF-IDF vectors to 2D\n",
        "pca = PCA(n_components=2)\n",
        "X_pca = pca.fit_transform(X.toarray())\n",
        "\n",
        "# Plot the clusters\n",
        "plt.figure(figsize=(6, 4))\n",
        "plt.scatter(X_pca[:, 0], X_pca[:, 1], c=km.labels_, cmap='viridis', s=50, alpha=0.5)\n",
        "plt.title('KMeans Clustering')\n",
        "plt.xlabel('Principal Component 1')\n",
        "plt.ylabel('Principal Component 2')\n",
        "plt.colorbar(label='Cluster')\n",
        "plt.show()"
      ],
      "metadata": {
        "colab": {
          "base_uri": "https://localhost:8080/",
          "height": 410
        },
        "id": "trvZ5bAFT-Rd",
        "outputId": "b56f9f9d-6b1c-473e-a752-d7d650f69cc7"
      },
      "execution_count": null,
      "outputs": [
        {
          "output_type": "display_data",
          "data": {
            "text/plain": [
              "<Figure size 600x400 with 2 Axes>"
            ],
            "image/png": "[encoded data removed]"
          },
          "metadata": {}
        }
      ]
    },
    {
      "cell_type": "markdown",
      "source": [
        "**Classifier : Support Vector Machine**"
      ],
      "metadata": {
        "id": "LFg8P4aFV0Kb"
      }
    },
    {
      "cell_type": "code",
      "source": [
        "# Add labels to the data\n",
        "label_neg = [0] * len(neg_data)  # Assign label 0 to negatives\n",
        "label_pos = [1] * len(pos_data)    # Assign label 1 to positives\n",
        "\n",
        "X_data = neg_data + pos_data  # order is preserved first 37 neg and next 37 pos.\n",
        "y_labels = label_neg + label_pos  # mapped to respective log in X_data\n",
        "\n",
        "vectorizer = TfidfVectorizer()\n",
        "\n",
        "# Fit and transform the documents\n",
        "X = vectorizer.fit_transform(X_data)\n",
        "\n",
        "X_train, X_test, y_train, y_test = train_test_split(X, y_labels, test_size=0.2, random_state=42)\n",
        "\n",
        "# Support Vector Machine (SVM) classifier\n",
        "classifier = SVC()\n",
        "\n",
        "# Train the classifier\n",
        "classifier.fit(X_train, y_train)\n",
        "\n",
        "predictions = classifier.predict(X_test)\n",
        "\n",
        "# Evaluation of the model\n",
        "accuracy = accuracy_score(y_test, predictions)\n",
        "classification_rep = classification_report(y_test, predictions)\n",
        "\n",
        "print(f\"Accuracy: {accuracy}\")\n",
        "print(\"Classification Report:\\n\", classification_rep)"
      ],
      "metadata": {
        "colab": {
          "base_uri": "https://localhost:8080/"
        },
        "id": "cbZpFJ5SUKue",
        "outputId": "a21281f4-caf3-4617-f29b-4d42557c5a12"
      },
      "execution_count": null,
      "outputs": [
        {
          "output_type": "stream",
          "name": "stdout",
          "text": [
            "Accuracy: 0.9636363636363636\n",
            "Classification Report:\n",
            "               precision    recall  f1-score   support\n",
            "\n",
            "           0       0.95      0.98      0.97        60\n",
            "           1       0.98      0.94      0.96        50\n",
            "\n",
            "    accuracy                           0.96       110\n",
            "   macro avg       0.97      0.96      0.96       110\n",
            "weighted avg       0.96      0.96      0.96       110\n",
            "\n"
          ]
        }
      ]
    },
    {
      "cell_type": "markdown",
      "source": [
        "**Classifier: RandomForestClassifier**"
      ],
      "metadata": {
        "id": "oBm2eNIVscTO"
      }
    },
    {
      "cell_type": "code",
      "source": [
        "from sklearn.ensemble import RandomForestClassifier\n",
        "\n",
        "# Add labels to the data\n",
        "label_neg = [0] * len(neg_data)  # Assign label 0 to negatives\n",
        "label_pos = [1] * len(pos_data)    # Assign label 1 to positives\n",
        "\n",
        "X_data = neg_data + pos_data  # order is preserved first 37 neg and next 37 pos.\n",
        "y_labels = label_neg + label_pos  # mapped to respective log in X_data\n",
        "\n",
        "vectorizer = TfidfVectorizer()\n",
        "\n",
        "# Fit and transform the documents\n",
        "X = vectorizer.fit_transform(X_data)\n",
        "\n",
        "X_train, X_test, y_train, y_test = train_test_split(X, y_labels, test_size=0.2, random_state=42)\n",
        "\n",
        "# Random Forest classifier\n",
        "classifier = RandomForestClassifier()\n",
        "\n",
        "# Train the classifier\n",
        "classifier.fit(X_train, y_train)\n",
        "\n",
        "predictions = classifier.predict(X_test)\n",
        "\n",
        "# Evaluation of the model\n",
        "accuracy = accuracy_score(y_test, predictions)\n",
        "classification_rep = classification_report(y_test, predictions)\n",
        "\n",
        "print(f\"Accuracy: {accuracy}\")\n",
        "print(\"Classification Report:\\n\", classification_rep)\n"
      ],
      "metadata": {
        "colab": {
          "base_uri": "https://localhost:8080/"
        },
        "id": "o3xCmwGlr9G6",
        "outputId": "ed331fd6-76a1-4a50-a99f-81b4c97570f9"
      },
      "execution_count": null,
      "outputs": [
        {
          "output_type": "stream",
          "name": "stdout",
          "text": [
            "Accuracy: 0.9727272727272728\n",
            "Classification Report:\n",
            "               precision    recall  f1-score   support\n",
            "\n",
            "           0       0.95      1.00      0.98        60\n",
            "           1       1.00      0.94      0.97        50\n",
            "\n",
            "    accuracy                           0.97       110\n",
            "   macro avg       0.98      0.97      0.97       110\n",
            "weighted avg       0.97      0.97      0.97       110\n",
            "\n"
          ]
        }
      ]
    },
    {
      "cell_type": "markdown",
      "source": [
        "**Classifier: Decision Tree**"
      ],
      "metadata": {
        "id": "0Vxk4oVIcU39"
      }
    },
    {
      "cell_type": "code",
      "source": [
        "from sklearn.tree import DecisionTreeClassifier\n",
        "\n",
        "# Add labels to the data\n",
        "label_neg = [0] * len(neg_data)  # Assign label 0 to negatives\n",
        "label_pos = [1] * len(pos_data)    # Assign label 1 to positives\n",
        "\n",
        "X_data = neg_data + pos_data  # order is preserved first 37 neg and next 37 pos.\n",
        "y_labels = label_neg + label_pos  # mapped to respective log in X_data\n",
        "\n",
        "vectorizer = TfidfVectorizer()\n",
        "\n",
        "# Fit and transform the documents\n",
        "X = vectorizer.fit_transform(X_data)\n",
        "\n",
        "X_train, X_test, y_train, y_test = train_test_split(X, y_labels, test_size=0.2, random_state=42)\n",
        "\n",
        "# Decision Tree classifier\n",
        "classifier = DecisionTreeClassifier()\n",
        "\n",
        "# Train the classifier\n",
        "classifier.fit(X_train, y_train)\n",
        "\n",
        "predictions = classifier.predict(X_test)\n",
        "\n",
        "# Evaluation of the model\n",
        "accuracy = accuracy_score(y_test, predictions)\n",
        "classification_rep = classification_report(y_test, predictions)\n",
        "\n",
        "print(f\"Accuracy: {accuracy}\")\n",
        "print(\"Classification Report:\\n\", classification_rep)\n"
      ],
      "metadata": {
        "colab": {
          "base_uri": "https://localhost:8080/"
        },
        "id": "6rloZd2QcTmd",
        "outputId": "6f1e4463-7520-4929-ee5d-f5fdde40aa4e"
      },
      "execution_count": null,
      "outputs": [
        {
          "output_type": "stream",
          "name": "stdout",
          "text": [
            "Accuracy: 0.9181818181818182\n",
            "Classification Report:\n",
            "               precision    recall  f1-score   support\n",
            "\n",
            "           0       0.96      0.88      0.92        60\n",
            "           1       0.87      0.96      0.91        50\n",
            "\n",
            "    accuracy                           0.92       110\n",
            "   macro avg       0.92      0.92      0.92       110\n",
            "weighted avg       0.92      0.92      0.92       110\n",
            "\n"
          ]
        }
      ]
    },
    {
      "cell_type": "markdown",
      "source": [
        "Accuracy is 96.36% with SVM and 97.27% with RandomForestClassifier.\n",
        "\n",
        "The model is trained on 546 samples only of which 273 are negative and 273 are positive. By increasing the training dataset more accuracy can be achieved."
      ],
      "metadata": {
        "id": "WI3vSTKIWZw_"
      }
    },
    {
      "cell_type": "markdown",
      "source": [
        "**Performance analysis using Confusion Matrix**"
      ],
      "metadata": {
        "id": "g0g-N82nWlXp"
      }
    },
    {
      "cell_type": "code",
      "source": [
        "import matplotlib.pyplot as plt\n",
        "import seaborn as sns\n",
        "from sklearn.metrics import confusion_matrix\n",
        "\n",
        "# Generate confusion matrix\n",
        "conf_matrix = confusion_matrix(y_test, predictions)\n",
        "\n",
        "# Plot confusion matrix heatmap\n",
        "plt.figure(figsize=(6, 4))\n",
        "sns.heatmap(conf_matrix, annot=True, fmt='d', cmap='Blues', cbar=False)\n",
        "plt.title('Confusion Matrix')\n",
        "plt.xlabel('Predicted Label')\n",
        "plt.ylabel('True Label')\n",
        "plt.show()"
      ],
      "metadata": {
        "colab": {
          "base_uri": "https://localhost:8080/",
          "height": 410
        },
        "id": "6Kb-_WYlWJ8l",
        "outputId": "96c637de-1f49-48f8-cefe-9590ea7c489d"
      },
      "execution_count": null,
      "outputs": [
        {
          "output_type": "display_data",
          "data": {
            "text/plain": [
              "<Figure size 600x400 with 1 Axes>"
            ],
            "image/png": "[encoded data removed]"
          },
          "metadata": {}
        }
      ]
    },
    {
      "cell_type": "markdown",
      "source": [
        "**Inference on the Unseen Data**\n",
        "\n",
        "0 - Predicted as Negative\n",
        "\n",
        "1 - Predicted as Positive"
      ],
      "metadata": {
        "id": "KXhXKATuWtBI"
      }
    },
    {
      "cell_type": "code",
      "source": [
        "stat = \"got engagement by id, accountId = LKPZWU, engagementId = 00eed7ec-ea32-487c-bb8a-92825f908c7b\"\n",
        "stat = clean(stat)\n",
        "# Transform the given statement using the same TF-IDF vectorizer\n",
        "statement_vectorized = vectorizer.transform([stat])\n",
        "\n",
        "# Use the trained classifier to predict the class\n",
        "prediction = classifier.predict(statement_vectorized)\n",
        "\n",
        "# Print the predicted class\n",
        "print(\"Actual Class:\",\" 1 |\", \"Predicted Class:\", prediction[0])\n",
        "\n",
        "stat = \"Caught Messaging exception for emailAddress [del***@ethereal.email] emailAccount [Delta O'Hara] accountId [IRGRHZ]\"\n",
        "stat = clean(stat)\n",
        "statement_vectorized = vectorizer.transform([stat])\n",
        "prediction = classifier.predict(statement_vectorized)\n",
        "print(\"Actual Class:\",\" 0 |\",\"Predicted Class:\", prediction[0])\n",
        "\n",
        "stat = \"invokeCreateElement(): Failed to register Element, errorCode [ELEMENT_REGISTRATION_FAILED] errorMessage [Error in registering Element - Default Account Not Found]\"\n",
        "stat = clean(stat)\n",
        "statement_vectorized = vectorizer.transform([stat])\n",
        "prediction = classifier.predict(statement_vectorized)\n",
        "print(\"Actual Class:\",\" 1 |\",\"Predicted Class:\", prediction[0])\n",
        "\n",
        "stat = \"error retrieving token from keycloak for tenant ungjyx\"\n",
        "stat = clean(stat)\n",
        "statement_vectorized = vectorizer.transform([stat])\n",
        "prediction = classifier.predict(statement_vectorized)\n",
        "print(\"Actual Class:\",\" 0 |\",\"Predicted Class:\", prediction[0])\n",
        "\n"
      ],
      "metadata": {
        "colab": {
          "base_uri": "https://localhost:8080/"
        },
        "id": "nHAqR1_QWpmT",
        "outputId": "f0acee66-1399-4383-f89c-2261231927f0"
      },
      "execution_count": null,
      "outputs": [
        {
          "output_type": "stream",
          "name": "stdout",
          "text": [
            "Actual Class:  1 | Predicted Class: 0\n",
            "Actual Class:  0 | Predicted Class: 0\n",
            "Actual Class:  1 | Predicted Class: 0\n",
            "Actual Class:  0 | Predicted Class: 0\n"
          ]
        }
      ]
    },
    {
      "cell_type": "code",
      "source": [
        "# Testing the model on latest logs\n",
        "df = pd.read_csv(\"testdata.csv\")"
      ],
      "metadata": {
        "id": "WXB3gi6pWzQ8"
      },
      "execution_count": null,
      "outputs": []
    },
    {
      "cell_type": "code",
      "source": [
        "df.head()"
      ],
      "metadata": {
        "colab": {
          "base_uri": "https://localhost:8080/",
          "height": 206
        },
        "id": "RKa61yKTcHp7",
        "outputId": "e934b170-77b3-4141-9fa4-0eb33c11f97e"
      },
      "execution_count": null,
      "outputs": [
        {
          "output_type": "execute_result",
          "data": {
            "text/plain": [
              "    Count Status                            Service  \\\n",
              "0   ≈266K  error         analytics-passthrough-proc   \n",
              "1  ≈18.6K  error  analytics-database-schema-manager   \n",
              "2  ≈17.9K  error  analytics-database-schema-manager   \n",
              "3  ≈17.5K  error         analytics-passthrough-proc   \n",
              "4  ≈11.7K  error          analytics-cumulative-proc   \n",
              "\n",
              "                                             Message  \n",
              "0  handleSummarizationEvent(): Failed to process ...  \n",
              "1  DatabaseController.syncJournalTablesFromDb: An...  \n",
              "2  DatabaseController.syncITDTablesFromDb: An SQL...  \n",
              "3  processEvent(): Processing of events [wildcard...  \n",
              "4  doProcess(): Processing of events [wildcard]*[...  "
            ],
            "text/html": [
              "\n",
              "  <div id=\"df-6908dc48-d7f6-4b2c-b85b-3cf50970e55e\" class=\"colab-df-container\">\n",
              "    <div>\n",
              "<style scoped>\n",
              "    .dataframe tbody tr th:only-of-type {\n",
              "        vertical-align: middle;\n",
              "    }\n",
              "\n",
              "    .dataframe tbody tr th {\n",
              "        vertical-align: top;\n",
              "    }\n",
              "\n",
              "    .dataframe thead th {\n",
              "        text-align: right;\n",
              "    }\n",
              "</style>\n",
              "<table border=\"1\" class=\"dataframe\">\n",
              "  <thead>\n",
              "    <tr style=\"text-align: right;\">\n",
              "      <th></th>\n",
              "      <th>Count</th>\n",
              "      <th>Status</th>\n",
              "      <th>Service</th>\n",
              "      <th>Message</th>\n",
              "    </tr>\n",
              "  </thead>\n",
              "  <tbody>\n",
              "    <tr>\n",
              "      <th>0</th>\n",
              "      <td>≈266K</td>\n",
              "      <td>error</td>\n",
              "      <td>analytics-passthrough-proc</td>\n",
              "      <td>handleSummarizationEvent(): Failed to process ...</td>\n",
              "    </tr>\n",
              "    <tr>\n",
              "      <th>1</th>\n",
              "      <td>≈18.6K</td>\n",
              "      <td>error</td>\n",
              "      <td>analytics-database-schema-manager</td>\n",
              "      <td>DatabaseController.syncJournalTablesFromDb: An...</td>\n",
              "    </tr>\n",
              "    <tr>\n",
              "      <th>2</th>\n",
              "      <td>≈17.9K</td>\n",
              "      <td>error</td>\n",
              "      <td>analytics-database-schema-manager</td>\n",
              "      <td>DatabaseController.syncITDTablesFromDb: An SQL...</td>\n",
              "    </tr>\n",
              "    <tr>\n",
              "      <th>3</th>\n",
              "      <td>≈17.5K</td>\n",
              "      <td>error</td>\n",
              "      <td>analytics-passthrough-proc</td>\n",
              "      <td>processEvent(): Processing of events [wildcard...</td>\n",
              "    </tr>\n",
              "    <tr>\n",
              "      <th>4</th>\n",
              "      <td>≈11.7K</td>\n",
              "      <td>error</td>\n",
              "      <td>analytics-cumulative-proc</td>\n",
              "      <td>doProcess(): Processing of events [wildcard]*[...</td>\n",
              "    </tr>\n",
              "  </tbody>\n",
              "</table>\n",
              "</div>\n",
              "    <div class=\"colab-df-buttons\">\n",
              "\n",
              "  <div class=\"colab-df-container\">\n",
              "    <button class=\"colab-df-convert\" onclick=\"convertToInteractive('df-6908dc48-d7f6-4b2c-b85b-3cf50970e55e')\"\n",
              "            title=\"Convert this dataframe to an interactive table.\"\n",
              "            style=\"display:none;\">\n",
              "\n",
              "  <svg xmlns=\"http://www.w3.org/2000/svg\" height=\"24px\" viewBox=\"0 -960 960 960\">\n",
              "    <path d=\"M120-120v-720h720v720H120Zm60-500h600v-160H180v160Zm220 220h160v-160H400v160Zm0 220h160v-160H400v160ZM180-400h160v-160H180v160Zm440 0h160v-160H620v160ZM180-180h160v-160H180v160Zm440 0h160v-160H620v160Z\"/>\n",
              "  </svg>\n",
              "    </button>\n",
              "\n",
              "  <style>\n",
              "    .colab-df-container {\n",
              "      display:flex;\n",
              "      gap: 12px;\n",
              "    }\n",
              "\n",
              "    .colab-df-convert {\n",
              "      background-color: #E8F0FE;\n",
              "      border: none;\n",
              "      border-radius: 50%;\n",
              "      cursor: pointer;\n",
              "      display: none;\n",
              "      fill: #1967D2;\n",
              "      height: 32px;\n",
              "      padding: 0 0 0 0;\n",
              "      width: 32px;\n",
              "    }\n",
              "\n",
              "    .colab-df-convert:hover {\n",
              "      background-color: #E2EBFA;\n",
              "      box-shadow: 0px 1px 2px rgba(60, 64, 67, 0.3), 0px 1px 3px 1px rgba(60, 64, 67, 0.15);\n",
              "      fill: #174EA6;\n",
              "    }\n",
              "\n",
              "    .colab-df-buttons div {\n",
              "      margin-bottom: 4px;\n",
              "    }\n",
              "\n",
              "    [theme=dark] .colab-df-convert {\n",
              "      background-color: #3B4455;\n",
              "      fill: #D2E3FC;\n",
              "    }\n",
              "\n",
              "    [theme=dark] .colab-df-convert:hover {\n",
              "      background-color: #434B5C;\n",
              "      box-shadow: 0px 1px 3px 1px rgba(0, 0, 0, 0.15);\n",
              "      filter: drop-shadow(0px 1px 2px rgba(0, 0, 0, 0.3));\n",
              "      fill: #FFFFFF;\n",
              "    }\n",
              "  </style>\n",
              "\n",
              "    <script>\n",
              "      const buttonEl =\n",
              "        document.querySelector('#df-6908dc48-d7f6-4b2c-b85b-3cf50970e55e button.colab-df-convert');\n",
              "      buttonEl.style.display =\n",
              "        google.colab.kernel.accessAllowed ? 'block' : 'none';\n",
              "\n",
              "      async function convertToInteractive(key) {\n",
              "        const element = document.querySelector('#df-6908dc48-d7f6-4b2c-b85b-3cf50970e55e');\n",
              "        const dataTable =\n",
              "          await google.colab.kernel.invokeFunction('convertToInteractive',\n",
              "                                                    [key], {});\n",
              "        if (!dataTable) return;\n",
              "\n",
              "        const docLinkHtml = 'Like what you see? Visit the ' +\n",
              "          '<a target=\"_blank\" href=https://colab.research.google.com/notebooks/data_table.ipynb>data table notebook</a>'\n",
              "          + ' to learn more about interactive tables.';\n",
              "        element.innerHTML = '';\n",
              "        dataTable['output_type'] = 'display_data';\n",
              "        await google.colab.output.renderOutput(dataTable, element);\n",
              "        const docLink = document.createElement('div');\n",
              "        docLink.innerHTML = docLinkHtml;\n",
              "        element.appendChild(docLink);\n",
              "      }\n",
              "    </script>\n",
              "  </div>\n",
              "\n",
              "\n",
              "<div id=\"df-843849c1-3149-4df6-94c2-f32e12a04eef\">\n",
              "  <button class=\"colab-df-quickchart\" onclick=\"quickchart('df-843849c1-3149-4df6-94c2-f32e12a04eef')\"\n",
              "            title=\"Suggest charts\"\n",
              "            style=\"display:none;\">\n",
              "\n",
              "<svg xmlns=\"http://www.w3.org/2000/svg\" height=\"24px\"viewBox=\"0 0 24 24\"\n",
              "     width=\"24px\">\n",
              "    <g>\n",
              "        <path d=\"M19 3H5c-1.1 0-2 .9-2 2v14c0 1.1.9 2 2 2h14c1.1 0 2-.9 2-2V5c0-1.1-.9-2-2-2zM9 17H7v-7h2v7zm4 0h-2V7h2v10zm4 0h-2v-4h2v4z\"/>\n",
              "    </g>\n",
              "</svg>\n",
              "  </button>\n",
              "\n",
              "<style>\n",
              "  .colab-df-quickchart {\n",
              "      --bg-color: #E8F0FE;\n",
              "      --fill-color: #1967D2;\n",
              "      --hover-bg-color: #E2EBFA;\n",
              "      --hover-fill-color: #174EA6;\n",
              "      --disabled-fill-color: #AAA;\n",
              "      --disabled-bg-color: #DDD;\n",
              "  }\n",
              "\n",
              "  [theme=dark] .colab-df-quickchart {\n",
              "      --bg-color: #3B4455;\n",
              "      --fill-color: #D2E3FC;\n",
              "      --hover-bg-color: #434B5C;\n",
              "      --hover-fill-color: #FFFFFF;\n",
              "      --disabled-bg-color: #3B4455;\n",
              "      --disabled-fill-color: #666;\n",
              "  }\n",
              "\n",
              "  .colab-df-quickchart {\n",
              "    background-color: var(--bg-color);\n",
              "    border: none;\n",
              "    border-radius: 50%;\n",
              "    cursor: pointer;\n",
              "    display: none;\n",
              "    fill: var(--fill-color);\n",
              "    height: 32px;\n",
              "    padding: 0;\n",
              "    width: 32px;\n",
              "  }\n",
              "\n",
              "  .colab-df-quickchart:hover {\n",
              "    background-color: var(--hover-bg-color);\n",
              "    box-shadow: 0 1px 2px rgba(60, 64, 67, 0.3), 0 1px 3px 1px rgba(60, 64, 67, 0.15);\n",
              "    fill: var(--button-hover-fill-color);\n",
              "  }\n",
              "\n",
              "  .colab-df-quickchart-complete:disabled,\n",
              "  .colab-df-quickchart-complete:disabled:hover {\n",
              "    background-color: var(--disabled-bg-color);\n",
              "    fill: var(--disabled-fill-color);\n",
              "    box-shadow: none;\n",
              "  }\n",
              "\n",
              "  .colab-df-spinner {\n",
              "    border: 2px solid var(--fill-color);\n",
              "    border-color: transparent;\n",
              "    border-bottom-color: var(--fill-color);\n",
              "    animation:\n",
              "      spin 1s steps(1) infinite;\n",
              "  }\n",
              "\n",
              "  @keyframes spin {\n",
              "    0% {\n",
              "      border-color: transparent;\n",
              "      border-bottom-color: var(--fill-color);\n",
              "      border-left-color: var(--fill-color);\n",
              "    }\n",
              "    20% {\n",
              "      border-color: transparent;\n",
              "      border-left-color: var(--fill-color);\n",
              "      border-top-color: var(--fill-color);\n",
              "    }\n",
              "    30% {\n",
              "      border-color: transparent;\n",
              "      border-left-color: var(--fill-color);\n",
              "      border-top-color: var(--fill-color);\n",
              "      border-right-color: var(--fill-color);\n",
              "    }\n",
              "    40% {\n",
              "      border-color: transparent;\n",
              "      border-right-color: var(--fill-color);\n",
              "      border-top-color: var(--fill-color);\n",
              "    }\n",
              "    60% {\n",
              "      border-color: transparent;\n",
              "      border-right-color: var(--fill-color);\n",
              "    }\n",
              "    80% {\n",
              "      border-color: transparent;\n",
              "      border-right-color: var(--fill-color);\n",
              "      border-bottom-color: var(--fill-color);\n",
              "    }\n",
              "    90% {\n",
              "      border-color: transparent;\n",
              "      border-bottom-color: var(--fill-color);\n",
              "    }\n",
              "  }\n",
              "</style>\n",
              "\n",
              "  <script>\n",
              "    async function quickchart(key) {\n",
              "      const quickchartButtonEl =\n",
              "        document.querySelector('#' + key + ' button');\n",
              "      quickchartButtonEl.disabled = true;  // To prevent multiple clicks.\n",
              "      quickchartButtonEl.classList.add('colab-df-spinner');\n",
              "      try {\n",
              "        const charts = await google.colab.kernel.invokeFunction(\n",
              "            'suggestCharts', [key], {});\n",
              "      } catch (error) {\n",
              "        console.error('Error during call to suggestCharts:', error);\n",
              "      }\n",
              "      quickchartButtonEl.classList.remove('colab-df-spinner');\n",
              "      quickchartButtonEl.classList.add('colab-df-quickchart-complete');\n",
              "    }\n",
              "    (() => {\n",
              "      let quickchartButtonEl =\n",
              "        document.querySelector('#df-843849c1-3149-4df6-94c2-f32e12a04eef button');\n",
              "      quickchartButtonEl.style.display =\n",
              "        google.colab.kernel.accessAllowed ? 'block' : 'none';\n",
              "    })();\n",
              "  </script>\n",
              "</div>\n",
              "\n",
              "    </div>\n",
              "  </div>\n"
            ],
            "application/vnd.google.colaboratory.intrinsic+json": {
              "type": "dataframe",
              "variable_name": "df",
              "summary": "{\n  \"name\": \"df\",\n  \"rows\": 282,\n  \"fields\": [\n    {\n      \"column\": \"Count\",\n      \"properties\": {\n        \"dtype\": \"category\",\n        \"num_unique_values\": 26,\n        \"samples\": [\n          \"\\u22484.9K\",\n          \"\\u22482K\",\n          \"\\u2248266K\"\n        ],\n        \"semantic_type\": \"\",\n        \"description\": \"\"\n      }\n    },\n    {\n      \"column\": \"Status\",\n      \"properties\": {\n        \"dtype\": \"category\",\n        \"num_unique_values\": 1,\n        \"samples\": [\n          \"error\"\n        ],\n        \"semantic_type\": \"\",\n        \"description\": \"\"\n      }\n    },\n    {\n      \"column\": \"Service\",\n      \"properties\": {\n        \"dtype\": \"category\",\n        \"num_unique_values\": 64,\n        \"samples\": [\n          \"timetable-service\"\n        ],\n        \"semantic_type\": \"\",\n        \"description\": \"\"\n      }\n    },\n    {\n      \"column\": \"Message\",\n      \"properties\": {\n        \"dtype\": \"string\",\n        \"num_unique_values\": 241,\n        \"samples\": [\n          \"Error retrieving token from Keycloak for tenant [[wildcard]*[/wildcard]]\"\n        ],\n        \"semantic_type\": \"\",\n        \"description\": \"\"\n      }\n    }\n  ]\n}"
            }
          },
          "metadata": {},
          "execution_count": 29
        }
      ]
    },
    {
      "cell_type": "code",
      "source": [
        "cl_msg=[]\n",
        "for i in df[\"Message\"]:\n",
        "    val = clean(i)\n",
        "    cl_msg.append(val)\n",
        "\n"
      ],
      "metadata": {
        "id": "PRLYvOdEcIzq"
      },
      "execution_count": null,
      "outputs": []
    },
    {
      "cell_type": "code",
      "source": [
        "#Checking only the negative logs\n",
        "for i in cl_msg:\n",
        "    statement_vectorized = vectorizer.transform([i])\n",
        "    prediction = classifier.predict(statement_vectorized)\n",
        "    print(\"Actual Class:\",\" 0 |\",\"Predicted Class:\", prediction[0])"
      ],
      "metadata": {
        "id": "v-sLncGQcvlb",
        "colab": {
          "base_uri": "https://localhost:8080/"
        },
        "outputId": "3f933169-b880-4661-891c-8ee38de9773b"
      },
      "execution_count": null,
      "outputs": [
        {
          "output_type": "stream",
          "name": "stdout",
          "text": [
            "Actual Class:  0 | Predicted Class: 0\n",
            "Actual Class:  0 | Predicted Class: 0\n",
            "Actual Class:  0 | Predicted Class: 0\n",
            "Actual Class:  0 | Predicted Class: 0\n",
            "Actual Class:  0 | Predicted Class: 0\n",
            "Actual Class:  0 | Predicted Class: 0\n",
            "Actual Class:  0 | Predicted Class: 0\n",
            "Actual Class:  0 | Predicted Class: 0\n",
            "Actual Class:  0 | Predicted Class: 0\n",
            "Actual Class:  0 | Predicted Class: 0\n",
            "Actual Class:  0 | Predicted Class: 0\n",
            "Actual Class:  0 | Predicted Class: 0\n",
            "Actual Class:  0 | Predicted Class: 0\n",
            "Actual Class:  0 | Predicted Class: 0\n",
            "Actual Class:  0 | Predicted Class: 0\n",
            "Actual Class:  0 | Predicted Class: 0\n",
            "Actual Class:  0 | Predicted Class: 0\n",
            "Actual Class:  0 | Predicted Class: 0\n",
            "Actual Class:  0 | Predicted Class: 0\n",
            "Actual Class:  0 | Predicted Class: 0\n",
            "Actual Class:  0 | Predicted Class: 0\n",
            "Actual Class:  0 | Predicted Class: 0\n",
            "Actual Class:  0 | Predicted Class: 0\n",
            "Actual Class:  0 | Predicted Class: 0\n",
            "Actual Class:  0 | Predicted Class: 0\n",
            "Actual Class:  0 | Predicted Class: 0\n",
            "Actual Class:  0 | Predicted Class: 0\n",
            "Actual Class:  0 | Predicted Class: 0\n",
            "Actual Class:  0 | Predicted Class: 0\n",
            "Actual Class:  0 | Predicted Class: 0\n",
            "Actual Class:  0 | Predicted Class: 0\n",
            "Actual Class:  0 | Predicted Class: 0\n",
            "Actual Class:  0 | Predicted Class: 0\n",
            "Actual Class:  0 | Predicted Class: 0\n",
            "Actual Class:  0 | Predicted Class: 0\n",
            "Actual Class:  0 | Predicted Class: 0\n",
            "Actual Class:  0 | Predicted Class: 0\n",
            "Actual Class:  0 | Predicted Class: 0\n",
            "Actual Class:  0 | Predicted Class: 0\n",
            "Actual Class:  0 | Predicted Class: 0\n",
            "Actual Class:  0 | Predicted Class: 0\n",
            "Actual Class:  0 | Predicted Class: 0\n",
            "Actual Class:  0 | Predicted Class: 0\n",
            "Actual Class:  0 | Predicted Class: 0\n",
            "Actual Class:  0 | Predicted Class: 0\n",
            "Actual Class:  0 | Predicted Class: 0\n",
            "Actual Class:  0 | Predicted Class: 0\n",
            "Actual Class:  0 | Predicted Class: 0\n",
            "Actual Class:  0 | Predicted Class: 1\n",
            "Actual Class:  0 | Predicted Class: 0\n",
            "Actual Class:  0 | Predicted Class: 0\n",
            "Actual Class:  0 | Predicted Class: 0\n",
            "Actual Class:  0 | Predicted Class: 0\n",
            "Actual Class:  0 | Predicted Class: 0\n",
            "Actual Class:  0 | Predicted Class: 0\n",
            "Actual Class:  0 | Predicted Class: 0\n",
            "Actual Class:  0 | Predicted Class: 0\n",
            "Actual Class:  0 | Predicted Class: 0\n",
            "Actual Class:  0 | Predicted Class: 0\n",
            "Actual Class:  0 | Predicted Class: 0\n",
            "Actual Class:  0 | Predicted Class: 0\n",
            "Actual Class:  0 | Predicted Class: 1\n",
            "Actual Class:  0 | Predicted Class: 0\n",
            "Actual Class:  0 | Predicted Class: 0\n",
            "Actual Class:  0 | Predicted Class: 1\n",
            "Actual Class:  0 | Predicted Class: 0\n",
            "Actual Class:  0 | Predicted Class: 0\n",
            "Actual Class:  0 | Predicted Class: 0\n",
            "Actual Class:  0 | Predicted Class: 0\n",
            "Actual Class:  0 | Predicted Class: 0\n",
            "Actual Class:  0 | Predicted Class: 0\n",
            "Actual Class:  0 | Predicted Class: 0\n",
            "Actual Class:  0 | Predicted Class: 0\n",
            "Actual Class:  0 | Predicted Class: 0\n",
            "Actual Class:  0 | Predicted Class: 0\n",
            "Actual Class:  0 | Predicted Class: 0\n",
            "Actual Class:  0 | Predicted Class: 0\n",
            "Actual Class:  0 | Predicted Class: 0\n",
            "Actual Class:  0 | Predicted Class: 0\n",
            "Actual Class:  0 | Predicted Class: 0\n",
            "Actual Class:  0 | Predicted Class: 0\n",
            "Actual Class:  0 | Predicted Class: 0\n",
            "Actual Class:  0 | Predicted Class: 1\n",
            "Actual Class:  0 | Predicted Class: 0\n",
            "Actual Class:  0 | Predicted Class: 0\n",
            "Actual Class:  0 | Predicted Class: 0\n",
            "Actual Class:  0 | Predicted Class: 0\n",
            "Actual Class:  0 | Predicted Class: 0\n",
            "Actual Class:  0 | Predicted Class: 0\n",
            "Actual Class:  0 | Predicted Class: 0\n",
            "Actual Class:  0 | Predicted Class: 0\n",
            "Actual Class:  0 | Predicted Class: 0\n",
            "Actual Class:  0 | Predicted Class: 0\n",
            "Actual Class:  0 | Predicted Class: 0\n",
            "Actual Class:  0 | Predicted Class: 1\n",
            "Actual Class:  0 | Predicted Class: 0\n",
            "Actual Class:  0 | Predicted Class: 0\n",
            "Actual Class:  0 | Predicted Class: 0\n",
            "Actual Class:  0 | Predicted Class: 0\n",
            "Actual Class:  0 | Predicted Class: 1\n",
            "Actual Class:  0 | Predicted Class: 0\n",
            "Actual Class:  0 | Predicted Class: 0\n",
            "Actual Class:  0 | Predicted Class: 0\n",
            "Actual Class:  0 | Predicted Class: 0\n",
            "Actual Class:  0 | Predicted Class: 0\n",
            "Actual Class:  0 | Predicted Class: 0\n",
            "Actual Class:  0 | Predicted Class: 0\n",
            "Actual Class:  0 | Predicted Class: 0\n",
            "Actual Class:  0 | Predicted Class: 0\n",
            "Actual Class:  0 | Predicted Class: 0\n",
            "Actual Class:  0 | Predicted Class: 0\n",
            "Actual Class:  0 | Predicted Class: 0\n",
            "Actual Class:  0 | Predicted Class: 0\n",
            "Actual Class:  0 | Predicted Class: 0\n",
            "Actual Class:  0 | Predicted Class: 0\n",
            "Actual Class:  0 | Predicted Class: 0\n",
            "Actual Class:  0 | Predicted Class: 0\n",
            "Actual Class:  0 | Predicted Class: 0\n",
            "Actual Class:  0 | Predicted Class: 0\n",
            "Actual Class:  0 | Predicted Class: 0\n",
            "Actual Class:  0 | Predicted Class: 0\n",
            "Actual Class:  0 | Predicted Class: 1\n",
            "Actual Class:  0 | Predicted Class: 0\n",
            "Actual Class:  0 | Predicted Class: 0\n",
            "Actual Class:  0 | Predicted Class: 0\n",
            "Actual Class:  0 | Predicted Class: 0\n",
            "Actual Class:  0 | Predicted Class: 0\n",
            "Actual Class:  0 | Predicted Class: 1\n",
            "Actual Class:  0 | Predicted Class: 0\n",
            "Actual Class:  0 | Predicted Class: 0\n",
            "Actual Class:  0 | Predicted Class: 0\n",
            "Actual Class:  0 | Predicted Class: 0\n",
            "Actual Class:  0 | Predicted Class: 0\n",
            "Actual Class:  0 | Predicted Class: 0\n",
            "Actual Class:  0 | Predicted Class: 0\n",
            "Actual Class:  0 | Predicted Class: 0\n",
            "Actual Class:  0 | Predicted Class: 0\n",
            "Actual Class:  0 | Predicted Class: 0\n",
            "Actual Class:  0 | Predicted Class: 0\n",
            "Actual Class:  0 | Predicted Class: 0\n",
            "Actual Class:  0 | Predicted Class: 0\n",
            "Actual Class:  0 | Predicted Class: 1\n",
            "Actual Class:  0 | Predicted Class: 0\n",
            "Actual Class:  0 | Predicted Class: 0\n",
            "Actual Class:  0 | Predicted Class: 1\n",
            "Actual Class:  0 | Predicted Class: 0\n",
            "Actual Class:  0 | Predicted Class: 0\n",
            "Actual Class:  0 | Predicted Class: 0\n",
            "Actual Class:  0 | Predicted Class: 0\n",
            "Actual Class:  0 | Predicted Class: 0\n",
            "Actual Class:  0 | Predicted Class: 0\n",
            "Actual Class:  0 | Predicted Class: 0\n",
            "Actual Class:  0 | Predicted Class: 0\n",
            "Actual Class:  0 | Predicted Class: 0\n",
            "Actual Class:  0 | Predicted Class: 0\n",
            "Actual Class:  0 | Predicted Class: 0\n",
            "Actual Class:  0 | Predicted Class: 0\n",
            "Actual Class:  0 | Predicted Class: 1\n",
            "Actual Class:  0 | Predicted Class: 0\n",
            "Actual Class:  0 | Predicted Class: 0\n",
            "Actual Class:  0 | Predicted Class: 0\n",
            "Actual Class:  0 | Predicted Class: 0\n",
            "Actual Class:  0 | Predicted Class: 0\n",
            "Actual Class:  0 | Predicted Class: 0\n",
            "Actual Class:  0 | Predicted Class: 0\n",
            "Actual Class:  0 | Predicted Class: 0\n",
            "Actual Class:  0 | Predicted Class: 0\n",
            "Actual Class:  0 | Predicted Class: 0\n",
            "Actual Class:  0 | Predicted Class: 0\n",
            "Actual Class:  0 | Predicted Class: 0\n",
            "Actual Class:  0 | Predicted Class: 0\n",
            "Actual Class:  0 | Predicted Class: 0\n",
            "Actual Class:  0 | Predicted Class: 0\n",
            "Actual Class:  0 | Predicted Class: 0\n",
            "Actual Class:  0 | Predicted Class: 0\n",
            "Actual Class:  0 | Predicted Class: 0\n",
            "Actual Class:  0 | Predicted Class: 0\n",
            "Actual Class:  0 | Predicted Class: 0\n",
            "Actual Class:  0 | Predicted Class: 0\n",
            "Actual Class:  0 | Predicted Class: 0\n",
            "Actual Class:  0 | Predicted Class: 0\n",
            "Actual Class:  0 | Predicted Class: 0\n",
            "Actual Class:  0 | Predicted Class: 0\n",
            "Actual Class:  0 | Predicted Class: 0\n",
            "Actual Class:  0 | Predicted Class: 0\n",
            "Actual Class:  0 | Predicted Class: 0\n",
            "Actual Class:  0 | Predicted Class: 0\n",
            "Actual Class:  0 | Predicted Class: 0\n",
            "Actual Class:  0 | Predicted Class: 1\n",
            "Actual Class:  0 | Predicted Class: 0\n",
            "Actual Class:  0 | Predicted Class: 0\n",
            "Actual Class:  0 | Predicted Class: 0\n",
            "Actual Class:  0 | Predicted Class: 0\n",
            "Actual Class:  0 | Predicted Class: 0\n",
            "Actual Class:  0 | Predicted Class: 0\n",
            "Actual Class:  0 | Predicted Class: 0\n",
            "Actual Class:  0 | Predicted Class: 0\n",
            "Actual Class:  0 | Predicted Class: 0\n",
            "Actual Class:  0 | Predicted Class: 1\n",
            "Actual Class:  0 | Predicted Class: 0\n",
            "Actual Class:  0 | Predicted Class: 0\n",
            "Actual Class:  0 | Predicted Class: 0\n",
            "Actual Class:  0 | Predicted Class: 0\n",
            "Actual Class:  0 | Predicted Class: 0\n",
            "Actual Class:  0 | Predicted Class: 0\n",
            "Actual Class:  0 | Predicted Class: 0\n",
            "Actual Class:  0 | Predicted Class: 0\n",
            "Actual Class:  0 | Predicted Class: 0\n",
            "Actual Class:  0 | Predicted Class: 0\n",
            "Actual Class:  0 | Predicted Class: 0\n",
            "Actual Class:  0 | Predicted Class: 0\n",
            "Actual Class:  0 | Predicted Class: 0\n",
            "Actual Class:  0 | Predicted Class: 0\n",
            "Actual Class:  0 | Predicted Class: 0\n",
            "Actual Class:  0 | Predicted Class: 0\n",
            "Actual Class:  0 | Predicted Class: 0\n",
            "Actual Class:  0 | Predicted Class: 0\n",
            "Actual Class:  0 | Predicted Class: 0\n",
            "Actual Class:  0 | Predicted Class: 0\n",
            "Actual Class:  0 | Predicted Class: 0\n",
            "Actual Class:  0 | Predicted Class: 0\n",
            "Actual Class:  0 | Predicted Class: 0\n",
            "Actual Class:  0 | Predicted Class: 0\n",
            "Actual Class:  0 | Predicted Class: 0\n",
            "Actual Class:  0 | Predicted Class: 0\n",
            "Actual Class:  0 | Predicted Class: 0\n",
            "Actual Class:  0 | Predicted Class: 0\n",
            "Actual Class:  0 | Predicted Class: 0\n",
            "Actual Class:  0 | Predicted Class: 0\n",
            "Actual Class:  0 | Predicted Class: 0\n",
            "Actual Class:  0 | Predicted Class: 0\n",
            "Actual Class:  0 | Predicted Class: 0\n",
            "Actual Class:  0 | Predicted Class: 0\n",
            "Actual Class:  0 | Predicted Class: 0\n",
            "Actual Class:  0 | Predicted Class: 0\n",
            "Actual Class:  0 | Predicted Class: 0\n",
            "Actual Class:  0 | Predicted Class: 0\n",
            "Actual Class:  0 | Predicted Class: 0\n",
            "Actual Class:  0 | Predicted Class: 0\n",
            "Actual Class:  0 | Predicted Class: 0\n",
            "Actual Class:  0 | Predicted Class: 0\n",
            "Actual Class:  0 | Predicted Class: 1\n",
            "Actual Class:  0 | Predicted Class: 0\n",
            "Actual Class:  0 | Predicted Class: 0\n",
            "Actual Class:  0 | Predicted Class: 0\n",
            "Actual Class:  0 | Predicted Class: 0\n",
            "Actual Class:  0 | Predicted Class: 0\n",
            "Actual Class:  0 | Predicted Class: 0\n",
            "Actual Class:  0 | Predicted Class: 0\n",
            "Actual Class:  0 | Predicted Class: 0\n",
            "Actual Class:  0 | Predicted Class: 0\n",
            "Actual Class:  0 | Predicted Class: 0\n",
            "Actual Class:  0 | Predicted Class: 1\n",
            "Actual Class:  0 | Predicted Class: 0\n",
            "Actual Class:  0 | Predicted Class: 1\n",
            "Actual Class:  0 | Predicted Class: 0\n",
            "Actual Class:  0 | Predicted Class: 0\n",
            "Actual Class:  0 | Predicted Class: 0\n",
            "Actual Class:  0 | Predicted Class: 0\n",
            "Actual Class:  0 | Predicted Class: 0\n",
            "Actual Class:  0 | Predicted Class: 0\n",
            "Actual Class:  0 | Predicted Class: 0\n",
            "Actual Class:  0 | Predicted Class: 0\n",
            "Actual Class:  0 | Predicted Class: 0\n",
            "Actual Class:  0 | Predicted Class: 0\n",
            "Actual Class:  0 | Predicted Class: 0\n",
            "Actual Class:  0 | Predicted Class: 0\n",
            "Actual Class:  0 | Predicted Class: 0\n",
            "Actual Class:  0 | Predicted Class: 0\n",
            "Actual Class:  0 | Predicted Class: 0\n",
            "Actual Class:  0 | Predicted Class: 0\n",
            "Actual Class:  0 | Predicted Class: 0\n",
            "Actual Class:  0 | Predicted Class: 0\n",
            "Actual Class:  0 | Predicted Class: 0\n",
            "Actual Class:  0 | Predicted Class: 0\n",
            "Actual Class:  0 | Predicted Class: 0\n",
            "Actual Class:  0 | Predicted Class: 0\n",
            "Actual Class:  0 | Predicted Class: 0\n",
            "Actual Class:  0 | Predicted Class: 0\n",
            "Actual Class:  0 | Predicted Class: 0\n",
            "Actual Class:  0 | Predicted Class: 0\n",
            "Actual Class:  0 | Predicted Class: 0\n"
          ]
        }
      ]
    },
    {
      "cell_type": "markdown",
      "source": [
        "These words create a sense for the incorrect predictions [wildcard, yyyy, mmdd, hhmmss, sss]"
      ],
      "metadata": {
        "id": "Xz_273Whehqt"
      }
    },
    {
      "cell_type": "code",
      "source": [
        "# Checking only the positive logs\n",
        "\n"
      ],
      "metadata": {
        "id": "Y7vh9ovdf6Rv"
      },
      "execution_count": null,
      "outputs": []
    },
    {
      "cell_type": "code",
      "source": [],
      "metadata": {
        "id": "SfW2xS5bdUcU"
      },
      "execution_count": null,
      "outputs": []
    }
  ]
}